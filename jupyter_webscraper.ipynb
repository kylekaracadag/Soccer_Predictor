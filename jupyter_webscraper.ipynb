{
 "cells": [
  {
   "cell_type": "code",
   "execution_count": 2,
   "id": "8608d5cb",
   "metadata": {},
   "outputs": [],
   "source": [
    "import requests\n",
    "from bs4 import BeautifulSoup\n",
    "import pandas"
   ]
  },
  {
   "cell_type": "code",
   "execution_count": 3,
   "id": "b253e2fe",
   "metadata": {},
   "outputs": [],
   "source": [
    "# fixture_list = []\n",
    "# fixture_url = 'https://www.transfermarkt.com/super-lig/spieltagtabelle/wettbewerb/TR1?saison_id='\n",
    "\n",
    "# for season in range(2005, 2006):\n",
    "#     for matchday in range(1, 2):\n",
    "#         season_requests = requests.get(fixture_url + str(season) + '&spieltag=' + str(matchday), \n",
    "#             headers={'User-agent': 'Mozilla/5.0 (X11; Ubuntu; Linux x86_64; rv:61.0) Gecko/20100101 Firefox/61.0'})\n",
    "\n",
    "#         content = season_requests.content\n",
    "#         soup = BeautifulSoup(content, 'html.parser')\n",
    "#         print(soup.prettify())"
   ]
  },
  {
   "cell_type": "code",
   "execution_count": 4,
   "id": "93d3c4fe",
   "metadata": {},
   "outputs": [],
   "source": [
    "tmp_url = \"https://www.transfermarkt.com/super-lig/spieltagtabelle/wettbewerb/TR1?saison_id=2005&spieltag=1\"\n",
    "r = requests.get(tmp_url, headers={'User-agent': 'Mozilla/5.0 (X11; Ubuntu; Linux x86_64; rv:61.0) Gecko/20100101 Firefox/61.0'})\n",
    "c = r.content\n",
    "soup = BeautifulSoup(c, \"html.parser\")\n",
    "# print(soup.prettify())"
   ]
  },
  {
   "cell_type": "code",
   "execution_count": 5,
   "id": "edb5d899",
   "metadata": {},
   "outputs": [],
   "source": [
    "all = soup.find_all(\"div\", {\"class\": \"responsive-table\"})\n",
    "# all"
   ]
  },
  {
   "cell_type": "code",
   "execution_count": 6,
   "id": "6722564d",
   "metadata": {},
   "outputs": [],
   "source": [
    "home_games = all[0].find_all(\"td\", {\"class\": \"text-right no-border-rechts no-border-links hauptlink hide-for-small\"})\n",
    "# home_games"
   ]
  },
  {
   "cell_type": "code",
   "execution_count": 7,
   "id": "a24fafc1",
   "metadata": {},
   "outputs": [
    {
     "data": {
      "text/plain": [
       "['Genclerbirligi Ankara',\n",
       " 'Kayseri Erciyesspor',\n",
       " 'Diyarbakirspor',\n",
       " 'Sivasspor',\n",
       " 'Trabzonspor',\n",
       " 'Denizlispor',\n",
       " 'Galatasaray A.S.',\n",
       " 'Samsunspor',\n",
       " 'Manisaspor']"
      ]
     },
     "execution_count": 7,
     "metadata": {},
     "output_type": "execute_result"
    }
   ],
   "source": [
    "home_team_list = []\n",
    "for index in range(9):\n",
    "    home_game = home_games[index].find_all(\"a\", attrs={'class': \"vereinprofil_tooltip\"})\n",
    "    for tag in home_game:\n",
    "        home_team_list.append(tag.text.strip())\n",
    "home_team_list"
   ]
  },
  {
   "cell_type": "code",
   "execution_count": 8,
   "id": "096d4739",
   "metadata": {},
   "outputs": [
    {
     "data": {
      "text/plain": [
       "['Fenerbahce SK',\n",
       " 'Besiktas JK',\n",
       " 'Caykur Rizespor',\n",
       " 'Malatyaspor',\n",
       " 'Kayserispor',\n",
       " 'Ankaraspor',\n",
       " 'Konyaspor',\n",
       " 'Gaziantepspor',\n",
       " 'MKE Ankaragücü']"
      ]
     },
     "execution_count": 8,
     "metadata": {},
     "output_type": "execute_result"
    }
   ],
   "source": [
    "away_games = all[0].find_all(\"td\", {\"class\": \"no-border-links no-border-rechts hauptlink hide-for-small\"})\n",
    "# away_games\n",
    "\n",
    "away_team_list = []\n",
    "for index in range(9):\n",
    "    away_game = away_games[index].find_all(\"a\", attrs={\"vereinprofil_tooltip\"})\n",
    "    for tag in away_game:\n",
    "        away_team_list.append(tag.text.strip())\n",
    "away_team_list"
   ]
  },
  {
   "cell_type": "code",
   "execution_count": 9,
   "id": "5bb2afd1",
   "metadata": {},
   "outputs": [
    {
     "data": {
      "text/plain": [
       "['Genclerbirligi Ankara vs. Fenerbahce SK',\n",
       " 'Kayseri Erciyesspor vs. Besiktas JK',\n",
       " 'Diyarbakirspor vs. Caykur Rizespor',\n",
       " 'Sivasspor vs. Malatyaspor',\n",
       " 'Trabzonspor vs. Kayserispor',\n",
       " 'Denizlispor vs. Ankaraspor',\n",
       " 'Galatasaray A.S. vs. Konyaspor',\n",
       " 'Samsunspor vs. Gaziantepspor',\n",
       " 'Manisaspor vs. MKE Ankaragücü']"
      ]
     },
     "execution_count": 9,
     "metadata": {},
     "output_type": "execute_result"
    }
   ],
   "source": [
    "fixture_list = []\n",
    "for home, away in zip(home_team_list, away_team_list):\n",
    "    fixture_list.append(home + \" vs. \" + away)\n",
    "    \n",
    "fixture_list"
   ]
  },
  {
   "cell_type": "code",
   "execution_count": 10,
   "id": "f97a641f",
   "metadata": {},
   "outputs": [
    {
     "data": {
      "text/plain": [
       "[<span class=\"tabellenplatz\">(6.)</span>,\n",
       " <span class=\"tabellenplatz\">(6.)</span>,\n",
       " <span class=\"tabellenplatz\">(2.)</span>,\n",
       " <span class=\"tabellenplatz\">(2.)</span>,\n",
       " <span class=\"tabellenplatz\">(11.)</span>,\n",
       " <span class=\"tabellenplatz\">(11.)</span>,\n",
       " <span class=\"tabellenplatz\">(3.)</span>,\n",
       " <span class=\"tabellenplatz\">(3.)</span>,\n",
       " <span class=\"tabellenplatz\">(18.)</span>,\n",
       " <span class=\"tabellenplatz\">(18.)</span>,\n",
       " <span class=\"tabellenplatz\">(9.)</span>,\n",
       " <span class=\"tabellenplatz\">(9.)</span>,\n",
       " <span class=\"tabellenplatz\">(8.)</span>,\n",
       " <span class=\"tabellenplatz\">(8.)</span>,\n",
       " <span class=\"tabellenplatz\">(16.)</span>,\n",
       " <span class=\"tabellenplatz\">(16.)</span>,\n",
       " <span class=\"tabellenplatz\">(4.)</span>,\n",
       " <span class=\"tabellenplatz\">(4.)</span>,\n",
       " <span class=\"tabellenplatz\">(5.)</span>,\n",
       " <span class=\"tabellenplatz\">(5.)</span>,\n",
       " <span class=\"tabellenplatz\">(15.)</span>,\n",
       " <span class=\"tabellenplatz\">(15.)</span>,\n",
       " <span class=\"tabellenplatz\">(14.)</span>,\n",
       " <span class=\"tabellenplatz\">(14.)</span>,\n",
       " <span class=\"tabellenplatz\">(1.)</span>,\n",
       " <span class=\"tabellenplatz\">(1.)</span>,\n",
       " <span class=\"tabellenplatz\">(7.)</span>,\n",
       " <span class=\"tabellenplatz\">(7.)</span>,\n",
       " <span class=\"tabellenplatz\">(17.)</span>,\n",
       " <span class=\"tabellenplatz\">(17.)</span>,\n",
       " <span class=\"tabellenplatz\">(12.)</span>,\n",
       " <span class=\"tabellenplatz\">(12.)</span>,\n",
       " <span class=\"tabellenplatz\">(10.)</span>,\n",
       " <span class=\"tabellenplatz\">(10.)</span>,\n",
       " <span class=\"tabellenplatz\">(13.)</span>,\n",
       " <span class=\"tabellenplatz\">(13.)</span>]"
      ]
     },
     "execution_count": 10,
     "metadata": {},
     "output_type": "execute_result"
    }
   ],
   "source": [
    "league_positions = all[0].find_all(\"span\", {\"class\": \"tabellenplatz\"})\n",
    "league_positions"
   ]
  },
  {
   "cell_type": "code",
   "execution_count": 11,
   "id": "0e0abef4",
   "metadata": {},
   "outputs": [
    {
     "data": {
      "text/plain": [
       "[6, 2, 11, 3, 18, 9, 8, 16, 4, 5, 15, 14, 1, 7, 17, 12, 10, 13]"
      ]
     },
     "execution_count": 11,
     "metadata": {},
     "output_type": "execute_result"
    }
   ],
   "source": [
    "position_list = []\n",
    "\n",
    "# Gather league positions from the site\n",
    "for index in range(36):\n",
    "    pos = league_positions[index]\n",
    "    pos_num = int(''.join(x for x in pos.text.strip() if x.isdigit()))\n",
    "    position_list.append(pos_num)\n",
    "    \n",
    "# Clean the position list\n",
    "league_position_list = []\n",
    "[league_position_list.append(x) for x in position_list if x not in league_position_list]\n",
    "\n",
    "league_position_list"
   ]
  },
  {
   "cell_type": "code",
   "execution_count": 12,
   "id": "53662be5",
   "metadata": {},
   "outputs": [
    {
     "data": {
      "text/plain": [
       "[2, 3, 9, 16, 5, 14, 7, 12, 13]"
      ]
     },
     "execution_count": 12,
     "metadata": {},
     "output_type": "execute_result"
    }
   ],
   "source": [
    "# Divide the home team positions and the away team positions\n",
    "home_positions = league_position_list[::2]\n",
    "away_positions = league_position_list[1::2]\n",
    "\n",
    "# home_positions\n",
    "away_positions"
   ]
  },
  {
   "cell_type": "code",
   "execution_count": 13,
   "id": "f8e0c852",
   "metadata": {},
   "outputs": [
    {
     "data": {
      "text/plain": [
       "[<span class=\"matchresult finished\">0:0</span>,\n",
       " <span class=\"matchresult finished\">1:1</span>,\n",
       " <span class=\"matchresult finished\">1:0</span>,\n",
       " <span class=\"matchresult finished\">1:1</span>,\n",
       " <span class=\"matchresult finished\">2:1</span>,\n",
       " <span class=\"matchresult finished\">1:1</span>,\n",
       " <span class=\"matchresult finished\">2:1</span>,\n",
       " <span class=\"matchresult finished\">2:3</span>,\n",
       " <span class=\"matchresult finished\">2:2</span>]"
      ]
     },
     "execution_count": 13,
     "metadata": {},
     "output_type": "execute_result"
    }
   ],
   "source": [
    "match_results = all[0].find_all(\"span\", {\"class\": \"matchresult finished\"})\n",
    "match_results"
   ]
  },
  {
   "cell_type": "code",
   "execution_count": 14,
   "id": "4ac2880f",
   "metadata": {},
   "outputs": [
    {
     "data": {
      "text/plain": [
       "[0, 0, 1, 0, 1, 0, 1, 2, 0]"
      ]
     },
     "execution_count": 14,
     "metadata": {},
     "output_type": "execute_result"
    }
   ],
   "source": [
    "result_list = []\n",
    "\n",
    "# Gather the match scores from the site\n",
    "for index, _ in enumerate(match_results):\n",
    "    result = match_results[index]\n",
    "    result_text = result.text.strip()\n",
    "    home_result, away_result = result_text.split(':')\n",
    "    home_result = int(home_result)\n",
    "    away_result = int(away_result)\n",
    "    \n",
    "    # If home result is equal to the away result we categorize the game as a draw or 0\n",
    "    # If home result is greater than the away result we categorize the game as a win ir 1\n",
    "    # If home result is less than the away result we categorize the game as a loss ir 2\n",
    "    if home_result == away_result:\n",
    "        result_list.append(0)\n",
    "    elif home_result > away_result:\n",
    "        result_list.append(1)\n",
    "    else:\n",
    "        result_list.append(2)\n",
    "\n",
    "result_list"
   ]
  },
  {
   "cell_type": "markdown",
   "id": "cce64856",
   "metadata": {},
   "source": [
    "## Get Data From the League Table"
   ]
  },
  {
   "cell_type": "code",
   "execution_count": 15,
   "id": "47c14ac7",
   "metadata": {},
   "outputs": [],
   "source": [
    "tmp_url = \"https://www.transfermarkt.com/super-lig/spieltagtabelle/wettbewerb/TR1?saison_id=2005&spieltag=1\"\n",
    "r = requests.get(tmp_url, headers={'User-agent': 'Mozilla/5.0 (X11; Ubuntu; Linux x86_64; rv:61.0) Gecko/20100101 Firefox/61.0'})\n",
    "c = r.content\n",
    "soup = BeautifulSoup(c, \"html.parser\")"
   ]
  },
  {
   "cell_type": "code",
   "execution_count": 16,
   "id": "62083d77",
   "metadata": {},
   "outputs": [
    {
     "data": {
      "text/plain": [
       "<table>\n",
       "<thead>\n",
       "<tr>\n",
       "<th class=\"rechts\">#</th>\n",
       "<th colspan=\"2\">club</th>\n",
       "<th class=\"zentriert\"><span class=\"icons_sprite icon-einsaetze-table-header\" title=\"Matches\"> </span></th>\n",
       "<th class=\"zentriert\">W</th>\n",
       "<th class=\"zentriert\">D</th>\n",
       "<th class=\"zentriert\">L</th>\n",
       "<th class=\"zentriert\">Goals</th>\n",
       "<th class=\"zentriert\">+/-</th>\n",
       "<th class=\"zentriert\">Pts</th>\n",
       "</tr>\n",
       "</thead>\n",
       "<tbody>\n",
       "<tr>\n",
       "<td class=\"rechts hauptlink\" style=\"background-color:#afd179\">1</td>\n",
       "<td class=\"zentriert no-border-rechts\"><a class=\"vereinprofil_tooltip\" href=\"/gaziantepspor/spielplan/verein/524/saison_id/2005\" id=\"524\"><img alt=\"Gaziantepspor\" class=\"tiny_wappen\" src=\"https://tmssl.akamaized.net/images/wappen/tiny/524.png?lm=1408654192\" title=\" \"/></a></td>\n",
       "<td class=\"no-border-links hauptlink\">\n",
       "<a class=\"vereinprofil_tooltip\" href=\"/gaziantepspor/spielplan/verein/524/saison_id/2005\" id=\"524\">Gaziantepspor</a><br class=\"show-for-small\"/>\n",
       "</td>\n",
       "<td class=\"zentriert\">1</td>\n",
       "<td class=\"zentriert\">1</td>\n",
       "<td class=\"zentriert\">0</td>\n",
       "<td class=\"zentriert\">0</td>\n",
       "<td class=\"zentriert\">3:2</td>\n",
       "<td class=\"zentriert\">1</td>\n",
       "<td class=\"zentriert\">3</td>\n",
       "</tr>\n",
       "<tr>\n",
       "<td class=\"rechts hauptlink\" style=\"background-color:#d6eab6\">2</td>\n",
       "<td class=\"zentriert no-border-rechts\"><a class=\"vereinprofil_tooltip\" href=\"/trabzonspor/spielplan/verein/449/saison_id/2005\" id=\"449\"><img alt=\"Trabzonspor\" class=\"tiny_wappen\" src=\"https://tmssl.akamaized.net/images/wappen/tiny/449.png?lm=1565126058\" title=\" \"/></a></td>\n",
       "<td class=\"no-border-links hauptlink\">\n",
       "<a class=\"vereinprofil_tooltip\" href=\"/trabzonspor/spielplan/verein/449/saison_id/2005\" id=\"449\">Trabzonspor</a><br class=\"show-for-small\"/>\n",
       "</td>\n",
       "<td class=\"zentriert\">1</td>\n",
       "<td class=\"zentriert\">1</td>\n",
       "<td class=\"zentriert\">0</td>\n",
       "<td class=\"zentriert\">0</td>\n",
       "<td class=\"zentriert\">2:1</td>\n",
       "<td class=\"zentriert\">1</td>\n",
       "<td class=\"zentriert\">3</td>\n",
       "</tr>\n",
       "<tr>\n",
       "<td class=\"rechts hauptlink\" style=\"background-color:#a5cce9\">3</td>\n",
       "<td class=\"zentriert no-border-rechts\"><a class=\"vereinprofil_tooltip\" href=\"/galatasaray-istanbul/spielplan/verein/141/saison_id/2005\" id=\"141\"><img alt=\"Galatasaray A.S.\" class=\"tiny_wappen\" src=\"https://tmssl.akamaized.net/images/wappen/tiny/141.png?lm=1406739071\" title=\" \"/></a></td>\n",
       "<td class=\"no-border-links hauptlink\">\n",
       "<a class=\"vereinprofil_tooltip\" href=\"/galatasaray-istanbul/spielplan/verein/141/saison_id/2005\" id=\"141\">Galatasaray</a><br class=\"show-for-small\"/>\n",
       "<a href=\"#\"><img alt=\"Turkish cup winner 04/05\" class=\"tabelle-erfolg\" src=\"https://tmssl.akamaized.net/images/erfolge/mini/148.png?lm=1520606997\" title=\"Turkish cup winner 04/05\"/></a> </td>\n",
       "<td class=\"zentriert\">1</td>\n",
       "<td class=\"zentriert\">1</td>\n",
       "<td class=\"zentriert\">0</td>\n",
       "<td class=\"zentriert\">0</td>\n",
       "<td class=\"zentriert\">2:1</td>\n",
       "<td class=\"zentriert\">1</td>\n",
       "<td class=\"zentriert\">3</td>\n",
       "</tr>\n",
       "<tr>\n",
       "<td class=\"rechts hauptlink\" style=\"background-color:#a5cce9\">4</td>\n",
       "<td class=\"zentriert no-border-rechts\"><a class=\"vereinprofil_tooltip\" href=\"/diyarbakirspor/spielplan/verein/845/saison_id/2005\" id=\"845\"><img alt=\"Diyarbakirspor\" class=\"tiny_wappen\" src=\"https://tmssl.akamaized.net/images/wappen/tiny/845.png?lm=1441811244\" title=\" \"/></a></td>\n",
       "<td class=\"no-border-links hauptlink\">\n",
       "<a class=\"vereinprofil_tooltip\" href=\"/diyarbakirspor/spielplan/verein/845/saison_id/2005\" id=\"845\">Diyarbakirspor</a><br class=\"show-for-small\"/>\n",
       "</td>\n",
       "<td class=\"zentriert\">1</td>\n",
       "<td class=\"zentriert\">1</td>\n",
       "<td class=\"zentriert\">0</td>\n",
       "<td class=\"zentriert\">0</td>\n",
       "<td class=\"zentriert\">1:0</td>\n",
       "<td class=\"zentriert\">1</td>\n",
       "<td class=\"zentriert\">3</td>\n",
       "</tr>\n",
       "<tr>\n",
       "<td class=\"rechts hauptlink\" style=\"background-color:#cde9ff\">5</td>\n",
       "<td class=\"zentriert no-border-rechts\"><a class=\"vereinprofil_tooltip\" href=\"/mke-ankaragucu/spielplan/verein/868/saison_id/2005\" id=\"868\"><img alt=\"MKE Ankaragücü\" class=\"tiny_wappen\" src=\"https://tmssl.akamaized.net/images/wappen/tiny/868.png?lm=1582635029\" title=\" \"/></a></td>\n",
       "<td class=\"no-border-links hauptlink\">\n",
       "<a class=\"vereinprofil_tooltip\" href=\"/mke-ankaragucu/spielplan/verein/868/saison_id/2005\" id=\"868\">Ankaragücü</a><br class=\"show-for-small\"/>\n",
       "</td>\n",
       "<td class=\"zentriert\">1</td>\n",
       "<td class=\"zentriert\">0</td>\n",
       "<td class=\"zentriert\">1</td>\n",
       "<td class=\"zentriert\">0</td>\n",
       "<td class=\"zentriert\">2:2</td>\n",
       "<td class=\"zentriert\">0</td>\n",
       "<td class=\"zentriert\">1</td>\n",
       "</tr>\n",
       "<tr>\n",
       "<td class=\"rechts hauptlink\" style=\"background-color:\">6</td>\n",
       "<td class=\"zentriert no-border-rechts\"><a class=\"vereinprofil_tooltip\" href=\"/manisaspor/spielplan/verein/1267/saison_id/2005\" id=\"1267\"><img alt=\"Manisaspor\" class=\"tiny_wappen\" src=\"https://tmssl.akamaized.net/images/wappen/tiny/1267.png?lm=1415444581\" title=\" \"/></a></td>\n",
       "<td class=\"no-border-links hauptlink\">\n",
       "<a class=\"vereinprofil_tooltip\" href=\"/manisaspor/spielplan/verein/1267/saison_id/2005\" id=\"1267\">Manisaspor</a><br class=\"show-for-small\"/>\n",
       "<span class=\"icons_sprite icon-aufsteiger\" title=\"Promoted to 1st league 04/05\"> </span> </td>\n",
       "<td class=\"zentriert\">1</td>\n",
       "<td class=\"zentriert\">0</td>\n",
       "<td class=\"zentriert\">1</td>\n",
       "<td class=\"zentriert\">0</td>\n",
       "<td class=\"zentriert\">2:2</td>\n",
       "<td class=\"zentriert\">0</td>\n",
       "<td class=\"zentriert\">1</td>\n",
       "</tr>\n",
       "<tr>\n",
       "<td class=\"rechts hauptlink\" style=\"background-color:\">7</td>\n",
       "<td class=\"zentriert no-border-rechts\"><a class=\"vereinprofil_tooltip\" href=\"/besiktas-istanbul/spielplan/verein/114/saison_id/2005\" id=\"114\"><img alt=\"Besiktas JK\" class=\"tiny_wappen\" src=\"https://tmssl.akamaized.net/images/wappen/tiny/114.png?lm=1502974502\" title=\" \"/></a></td>\n",
       "<td class=\"no-border-links hauptlink\">\n",
       "<a class=\"vereinprofil_tooltip\" href=\"/besiktas-istanbul/spielplan/verein/114/saison_id/2005\" id=\"114\">Besiktas</a><br class=\"show-for-small\"/>\n",
       "</td>\n",
       "<td class=\"zentriert\">1</td>\n",
       "<td class=\"zentriert\">0</td>\n",
       "<td class=\"zentriert\">1</td>\n",
       "<td class=\"zentriert\">0</td>\n",
       "<td class=\"zentriert\">1:1</td>\n",
       "<td class=\"zentriert\">0</td>\n",
       "<td class=\"zentriert\">1</td>\n",
       "</tr>\n",
       "<tr>\n",
       "<td class=\"rechts hauptlink\" style=\"background-color:\">8</td>\n",
       "<td class=\"zentriert no-border-rechts\"><a class=\"vereinprofil_tooltip\" href=\"/denizlispor/spielplan/verein/833/saison_id/2005\" id=\"833\"><img alt=\"Denizlispor\" class=\"tiny_wappen\" src=\"https://tmssl.akamaized.net/images/wappen/tiny/833.png?lm=1415444729\" title=\" \"/></a></td>\n",
       "<td class=\"no-border-links hauptlink\">\n",
       "<a class=\"vereinprofil_tooltip\" href=\"/denizlispor/spielplan/verein/833/saison_id/2005\" id=\"833\">Denizlispor</a><br class=\"show-for-small\"/>\n",
       "</td>\n",
       "<td class=\"zentriert\">1</td>\n",
       "<td class=\"zentriert\">0</td>\n",
       "<td class=\"zentriert\">1</td>\n",
       "<td class=\"zentriert\">0</td>\n",
       "<td class=\"zentriert\">1:1</td>\n",
       "<td class=\"zentriert\">0</td>\n",
       "<td class=\"zentriert\">1</td>\n",
       "</tr>\n",
       "<tr>\n",
       "<td class=\"rechts hauptlink\" style=\"background-color:\">9</td>\n",
       "<td class=\"zentriert no-border-rechts\"><a class=\"vereinprofil_tooltip\" href=\"/ankaraspor/spielplan/verein/2944/saison_id/2005\" id=\"2944\"><img alt=\"Ankaraspor\" class=\"\" src=\"https://tmssl.akamaized.net/images/wappen/tiny/2944_1444100514.png?lm=1444100514\" title=\" \"/></a></td>\n",
       "<td class=\"no-border-links hauptlink\">\n",
       "<a class=\"vereinprofil_tooltip\" href=\"/ankaraspor/spielplan/verein/2944/saison_id/2005\" id=\"2944\">Ankaraspor</a><br class=\"show-for-small\"/>\n",
       "</td>\n",
       "<td class=\"zentriert\">1</td>\n",
       "<td class=\"zentriert\">0</td>\n",
       "<td class=\"zentriert\">1</td>\n",
       "<td class=\"zentriert\">0</td>\n",
       "<td class=\"zentriert\">1:1</td>\n",
       "<td class=\"zentriert\">0</td>\n",
       "<td class=\"zentriert\">1</td>\n",
       "</tr>\n",
       "<tr>\n",
       "<td class=\"rechts hauptlink\" style=\"background-color:\">10</td>\n",
       "<td class=\"zentriert no-border-rechts\"><a class=\"vereinprofil_tooltip\" href=\"/malatyaspor/spielplan/verein/1264/saison_id/2005\" id=\"1264\"><img alt=\"Malatyaspor\" class=\"tiny_wappen\" src=\"https://tmssl.akamaized.net/images/wappen/tiny/1264.png?lm=1441755509\" title=\" \"/></a></td>\n",
       "<td class=\"no-border-links hauptlink\">\n",
       "<a class=\"vereinprofil_tooltip\" href=\"/malatyaspor/spielplan/verein/1264/saison_id/2005\" id=\"1264\">Malatyaspor</a><br class=\"show-for-small\"/>\n",
       "</td>\n",
       "<td class=\"zentriert\">1</td>\n",
       "<td class=\"zentriert\">0</td>\n",
       "<td class=\"zentriert\">1</td>\n",
       "<td class=\"zentriert\">0</td>\n",
       "<td class=\"zentriert\">1:1</td>\n",
       "<td class=\"zentriert\">0</td>\n",
       "<td class=\"zentriert\">1</td>\n",
       "</tr>\n",
       "<tr>\n",
       "<td class=\"rechts hauptlink\" style=\"background-color:\">11</td>\n",
       "<td class=\"zentriert no-border-rechts\"><a class=\"vereinprofil_tooltip\" href=\"/sivasspor/spielplan/verein/2381/saison_id/2005\" id=\"2381\"><img alt=\"Sivasspor\" class=\"tiny_wappen\" src=\"https://tmssl.akamaized.net/images/wappen/tiny/2381.png?lm=1408653992\" title=\" \"/></a></td>\n",
       "<td class=\"no-border-links hauptlink\">\n",
       "<a class=\"vereinprofil_tooltip\" href=\"/sivasspor/spielplan/verein/2381/saison_id/2005\" id=\"2381\">Sivasspor</a><br class=\"show-for-small\"/>\n",
       "<span class=\"icons_sprite icon-aufsteiger\" title=\"Promoted to 1st league 04/05\"> </span> </td>\n",
       "<td class=\"zentriert\">1</td>\n",
       "<td class=\"zentriert\">0</td>\n",
       "<td class=\"zentriert\">1</td>\n",
       "<td class=\"zentriert\">0</td>\n",
       "<td class=\"zentriert\">1:1</td>\n",
       "<td class=\"zentriert\">0</td>\n",
       "<td class=\"zentriert\">1</td>\n",
       "</tr>\n",
       "<tr>\n",
       "<td class=\"rechts hauptlink\" style=\"background-color:\">12</td>\n",
       "<td class=\"zentriert no-border-rechts\"><a class=\"vereinprofil_tooltip\" href=\"/kayseri-erciyesspor/spielplan/verein/6894/saison_id/2005\" id=\"6894\"><img alt=\"Kayseri Erciyesspor\" class=\"tiny_wappen\" src=\"https://tmssl.akamaized.net/images/wappen/tiny/6894.png?lm=1444097883\" title=\" \"/></a></td>\n",
       "<td class=\"no-border-links hauptlink\">\n",
       "<a class=\"vereinprofil_tooltip\" href=\"/kayseri-erciyesspor/spielplan/verein/6894/saison_id/2005\" id=\"6894\">K. Erciyesspor</a><br class=\"show-for-small\"/>\n",
       "<span class=\"icons_sprite icon-aufsteiger\" title=\"Promoted to 1st league 04/05\"> </span> </td>\n",
       "<td class=\"zentriert\">1</td>\n",
       "<td class=\"zentriert\">0</td>\n",
       "<td class=\"zentriert\">1</td>\n",
       "<td class=\"zentriert\">0</td>\n",
       "<td class=\"zentriert\">1:1</td>\n",
       "<td class=\"zentriert\">0</td>\n",
       "<td class=\"zentriert\">1</td>\n",
       "</tr>\n",
       "<tr>\n",
       "<td class=\"rechts hauptlink\" style=\"background-color:\">13</td>\n",
       "<td class=\"zentriert no-border-rechts\"><a class=\"vereinprofil_tooltip\" href=\"/fenerbahce-istanbul/spielplan/verein/36/saison_id/2005\" id=\"36\"><img alt=\"Fenerbahce SK\" class=\"tiny_wappen\" src=\"https://tmssl.akamaized.net/images/wappen/tiny/36.png?lm=1406739123\" title=\" \"/></a></td>\n",
       "<td class=\"no-border-links hauptlink\">\n",
       "<a class=\"vereinprofil_tooltip\" href=\"/fenerbahce-istanbul/spielplan/verein/36/saison_id/2005\" id=\"36\">Fenerbahce</a><br class=\"show-for-small\"/>\n",
       "<a href=\"#\"><img alt=\"Turkish Champion 04/05\" class=\"tabelle-erfolg\" src=\"https://tmssl.akamaized.net/images/erfolge/mini/20.png?lm=1520606999\" title=\"Turkish Champion 04/05\"/></a> </td>\n",
       "<td class=\"zentriert\">1</td>\n",
       "<td class=\"zentriert\">0</td>\n",
       "<td class=\"zentriert\">1</td>\n",
       "<td class=\"zentriert\">0</td>\n",
       "<td class=\"zentriert\">0:0</td>\n",
       "<td class=\"zentriert\">0</td>\n",
       "<td class=\"zentriert\">1</td>\n",
       "</tr>\n",
       "<tr>\n",
       "<td class=\"rechts hauptlink\" style=\"background-color:\">14</td>\n",
       "<td class=\"zentriert no-border-rechts\"><a class=\"vereinprofil_tooltip\" href=\"/genclerbirligi-ankara/spielplan/verein/820/saison_id/2005\" id=\"820\"><img alt=\"Genclerbirligi Ankara\" class=\"tiny_wappen\" src=\"https://tmssl.akamaized.net/images/wappen/tiny/820.png?lm=1408653608\" title=\" \"/></a></td>\n",
       "<td class=\"no-border-links hauptlink\">\n",
       "<a class=\"vereinprofil_tooltip\" href=\"/genclerbirligi-ankara/spielplan/verein/820/saison_id/2005\" id=\"820\">Genclerbirligi</a><br class=\"show-for-small\"/>\n",
       "</td>\n",
       "<td class=\"zentriert\">1</td>\n",
       "<td class=\"zentriert\">0</td>\n",
       "<td class=\"zentriert\">1</td>\n",
       "<td class=\"zentriert\">0</td>\n",
       "<td class=\"zentriert\">0:0</td>\n",
       "<td class=\"zentriert\">0</td>\n",
       "<td class=\"zentriert\">1</td>\n",
       "</tr>\n",
       "<tr>\n",
       "<td class=\"rechts hauptlink\" style=\"background-color:\">15</td>\n",
       "<td class=\"zentriert no-border-rechts\"><a class=\"vereinprofil_tooltip\" href=\"/samsunspor/spielplan/verein/152/saison_id/2005\" id=\"152\"><img alt=\"Samsunspor\" class=\"tiny_wappen\" src=\"https://tmssl.akamaized.net/images/wappen/tiny/152.png?lm=1601939192\" title=\" \"/></a></td>\n",
       "<td class=\"no-border-links hauptlink\">\n",
       "<a class=\"vereinprofil_tooltip\" href=\"/samsunspor/spielplan/verein/152/saison_id/2005\" id=\"152\">Samsunspor</a><br class=\"show-for-small\"/>\n",
       "</td>\n",
       "<td class=\"zentriert\">1</td>\n",
       "<td class=\"zentriert\">0</td>\n",
       "<td class=\"zentriert\">0</td>\n",
       "<td class=\"zentriert\">1</td>\n",
       "<td class=\"zentriert\">2:3</td>\n",
       "<td class=\"zentriert\">-1</td>\n",
       "<td class=\"zentriert\">-</td>\n",
       "</tr>\n",
       "<tr>\n",
       "<td class=\"rechts hauptlink\" style=\"background-color:#f8a7a3\">16</td>\n",
       "<td class=\"zentriert no-border-rechts\"><a class=\"vereinprofil_tooltip\" href=\"/konyaspor/spielplan/verein/2293/saison_id/2005\" id=\"2293\"><img alt=\"Konyaspor\" class=\"tiny_wappen\" src=\"https://tmssl.akamaized.net/images/wappen/tiny/2293.png?lm=1519828204\" title=\" \"/></a></td>\n",
       "<td class=\"no-border-links hauptlink\">\n",
       "<a class=\"vereinprofil_tooltip\" href=\"/konyaspor/spielplan/verein/2293/saison_id/2005\" id=\"2293\">Konyaspor</a><br class=\"show-for-small\"/>\n",
       "</td>\n",
       "<td class=\"zentriert\">1</td>\n",
       "<td class=\"zentriert\">0</td>\n",
       "<td class=\"zentriert\">0</td>\n",
       "<td class=\"zentriert\">1</td>\n",
       "<td class=\"zentriert\">1:2</td>\n",
       "<td class=\"zentriert\">-1</td>\n",
       "<td class=\"zentriert\">-</td>\n",
       "</tr>\n",
       "<tr>\n",
       "<td class=\"rechts hauptlink\" style=\"background-color:#f8a7a3\">17</td>\n",
       "<td class=\"zentriert no-border-rechts\"><a class=\"vereinprofil_tooltip\" href=\"/kayserispor/spielplan/verein/3205/saison_id/2005\" id=\"3205\"><img alt=\"Kayserispor\" class=\"tiny_wappen\" src=\"https://tmssl.akamaized.net/images/wappen/tiny/3205.png?lm=1520239955\" title=\" \"/></a></td>\n",
       "<td class=\"no-border-links hauptlink\">\n",
       "<a class=\"vereinprofil_tooltip\" href=\"/kayserispor/spielplan/verein/3205/saison_id/2005\" id=\"3205\">Kayserispor</a><br class=\"show-for-small\"/>\n",
       "</td>\n",
       "<td class=\"zentriert\">1</td>\n",
       "<td class=\"zentriert\">0</td>\n",
       "<td class=\"zentriert\">0</td>\n",
       "<td class=\"zentriert\">1</td>\n",
       "<td class=\"zentriert\">1:2</td>\n",
       "<td class=\"zentriert\">-1</td>\n",
       "<td class=\"zentriert\">-</td>\n",
       "</tr>\n",
       "<tr>\n",
       "<td class=\"rechts hauptlink\" style=\"background-color:#f8a7a3\">18</td>\n",
       "<td class=\"zentriert no-border-rechts\"><a class=\"vereinprofil_tooltip\" href=\"/caykur-rizespor/spielplan/verein/126/saison_id/2005\" id=\"126\"><img alt=\"Caykur Rizespor\" class=\"tiny_wappen\" src=\"https://tmssl.akamaized.net/images/wappen/tiny/126.png?lm=1443714784\" title=\" \"/></a></td>\n",
       "<td class=\"no-border-links hauptlink\">\n",
       "<a class=\"vereinprofil_tooltip\" href=\"/caykur-rizespor/spielplan/verein/126/saison_id/2005\" id=\"126\">C. Rizespor</a><br class=\"show-for-small\"/>\n",
       "</td>\n",
       "<td class=\"zentriert\">1</td>\n",
       "<td class=\"zentriert\">0</td>\n",
       "<td class=\"zentriert\">0</td>\n",
       "<td class=\"zentriert\">1</td>\n",
       "<td class=\"zentriert\">0:1</td>\n",
       "<td class=\"zentriert\">-1</td>\n",
       "<td class=\"zentriert\">-</td>\n",
       "</tr>\n",
       "</tbody>\n",
       "</table>"
      ]
     },
     "execution_count": 16,
     "metadata": {},
     "output_type": "execute_result"
    }
   ],
   "source": [
    "all = soup.find_all(\"table\")\n",
    "all[4]"
   ]
  },
  {
   "cell_type": "code",
   "execution_count": 17,
   "id": "efb29c23",
   "metadata": {},
   "outputs": [
    {
     "data": {
      "text/plain": [
       "<tr>\n",
       "<td class=\"rechts hauptlink\" style=\"background-color:#afd179\">1</td>\n",
       "<td class=\"zentriert no-border-rechts\"><a class=\"vereinprofil_tooltip\" href=\"/gaziantepspor/spielplan/verein/524/saison_id/2005\" id=\"524\"><img alt=\"Gaziantepspor\" class=\"tiny_wappen\" src=\"https://tmssl.akamaized.net/images/wappen/tiny/524.png?lm=1408654192\" title=\" \"/></a></td>\n",
       "<td class=\"no-border-links hauptlink\">\n",
       "<a class=\"vereinprofil_tooltip\" href=\"/gaziantepspor/spielplan/verein/524/saison_id/2005\" id=\"524\">Gaziantepspor</a><br class=\"show-for-small\"/>\n",
       "</td>\n",
       "<td class=\"zentriert\">1</td>\n",
       "<td class=\"zentriert\">1</td>\n",
       "<td class=\"zentriert\">0</td>\n",
       "<td class=\"zentriert\">0</td>\n",
       "<td class=\"zentriert\">3:2</td>\n",
       "<td class=\"zentriert\">1</td>\n",
       "<td class=\"zentriert\">3</td>\n",
       "</tr>"
      ]
     },
     "execution_count": 17,
     "metadata": {},
     "output_type": "execute_result"
    }
   ],
   "source": [
    "table = all[4].find_all(\"tr\")\n",
    "table = table[1:]\n",
    "table[0]"
   ]
  },
  {
   "cell_type": "code",
   "execution_count": 18,
   "id": "678b9a61",
   "metadata": {},
   "outputs": [
    {
     "name": "stdout",
     "output_type": "stream",
     "text": [
      "Gaziantepspor\n",
      "Trabzonspor\n",
      "Galatasaray\n",
      "Diyarbakirspor\n",
      "Ankaragücü\n",
      "Manisaspor\n",
      "Besiktas\n",
      "Denizlispor\n",
      "Ankaraspor\n",
      "Malatyaspor\n",
      "Sivasspor\n",
      "K. Erciyesspor\n",
      "Fenerbahce\n",
      "Genclerbirligi\n",
      "Samsunspor\n",
      "Konyaspor\n",
      "Kayserispor\n",
      "C. Rizespor\n"
     ]
    }
   ],
   "source": [
    "for index, _ in enumerate(table):\n",
    "    team_name = table[index].find_all(\"td\", {\"class\": \"no-border-links hauptlink\"})\n",
    "    team_name = team_name[0].find_all(\"a\", {\"class\": \"vereinprofil_tooltip\"})\n",
    "    print(team_name[0].text.strip())"
   ]
  },
  {
   "cell_type": "code",
   "execution_count": 19,
   "id": "a989e3f9",
   "metadata": {},
   "outputs": [
    {
     "data": {
      "text/plain": [
       "[<td class=\"zentriert\">1</td>,\n",
       " <td class=\"zentriert\">1</td>,\n",
       " <td class=\"zentriert\">0</td>,\n",
       " <td class=\"zentriert\">0</td>,\n",
       " <td class=\"zentriert\">3:2</td>,\n",
       " <td class=\"zentriert\">1</td>,\n",
       " <td class=\"zentriert\">3</td>]"
      ]
     },
     "execution_count": 19,
     "metadata": {},
     "output_type": "execute_result"
    }
   ],
   "source": [
    "score_info = table[0].find_all(\"td\", {\"class\": \"zentriert\"})[1:]\n",
    "score_info"
   ]
  },
  {
   "cell_type": "code",
   "execution_count": 20,
   "id": "4ca4ed9c",
   "metadata": {},
   "outputs": [
    {
     "name": "stdout",
     "output_type": "stream",
     "text": [
      "1\n",
      "1\n",
      "0\n",
      "0\n",
      "3:2\n",
      "1\n",
      "3\n"
     ]
    }
   ],
   "source": [
    "for index, _ in enumerate(score_info):\n",
    "    print(score_info[index].text.strip())"
   ]
  },
  {
   "cell_type": "code",
   "execution_count": 21,
   "id": "569a917d",
   "metadata": {},
   "outputs": [
    {
     "data": {
      "text/plain": [
       "[{'Gaziantepspor': ['1', '0', '0', '3:2', '1', '3']},\n",
       " {'Trabzonspor': ['1', '0', '0', '2:1', '1', '3']},\n",
       " {'Galatasaray': ['1', '0', '0', '2:1', '1', '3']},\n",
       " {'Diyarbakirspor': ['1', '0', '0', '1:0', '1', '3']},\n",
       " {'Ankaragücü': ['0', '1', '0', '2:2', '0', '1']},\n",
       " {'Manisaspor': ['0', '1', '0', '2:2', '0', '1']},\n",
       " {'Besiktas': ['0', '1', '0', '1:1', '0', '1']},\n",
       " {'Denizlispor': ['0', '1', '0', '1:1', '0', '1']},\n",
       " {'Ankaraspor': ['0', '1', '0', '1:1', '0', '1']},\n",
       " {'Malatyaspor': ['0', '1', '0', '1:1', '0', '1']},\n",
       " {'Sivasspor': ['0', '1', '0', '1:1', '0', '1']},\n",
       " {'K. Erciyesspor': ['0', '1', '0', '1:1', '0', '1']},\n",
       " {'Fenerbahce': ['0', '1', '0', '0:0', '0', '1']},\n",
       " {'Genclerbirligi': ['0', '1', '0', '0:0', '0', '1']},\n",
       " {'Samsunspor': ['0', '0', '1', '2:3', '-1', 0]},\n",
       " {'Konyaspor': ['0', '0', '1', '1:2', '-1', 0]},\n",
       " {'Kayserispor': ['0', '0', '1', '1:2', '-1', 0]},\n",
       " {'C. Rizespor': ['0', '0', '1', '0:1', '-1', 0]}]"
      ]
     },
     "execution_count": 21,
     "metadata": {},
     "output_type": "execute_result"
    }
   ],
   "source": [
    "table_information = []\n",
    "\n",
    "for index, _ in enumerate(table):\n",
    "    score_dictionary = {}\n",
    "    score_list = []\n",
    "    team_name = table[index].find_all(\"td\", {\"class\": \"no-border-links hauptlink\"})\n",
    "    team_name = team_name[0].find_all(\"a\", {\"class\": \"vereinprofil_tooltip\"})\n",
    "    name = team_name[0].text.strip()\n",
    "    \n",
    "    score_info = table[index].find_all(\"td\", {\"class\": \"zentriert\"})[2:]\n",
    "    for index, _ in enumerate(score_info):\n",
    "        if score_info[index].text.strip() == '-':\n",
    "            score_list.append(0)\n",
    "        else:\n",
    "            score_list.append(score_info[index].text.strip())\n",
    "        \n",
    "    score_dictionary[name] = score_list\n",
    "    table_information.append(score_dictionary)\n",
    "    \n",
    "table_information"
   ]
  },
  {
   "cell_type": "code",
   "execution_count": null,
   "id": "8178feec",
   "metadata": {},
   "outputs": [],
   "source": []
  },
  {
   "cell_type": "code",
   "execution_count": null,
   "id": "671adab9",
   "metadata": {},
   "outputs": [],
   "source": []
  },
  {
   "cell_type": "code",
   "execution_count": null,
   "id": "32b35ffc",
   "metadata": {},
   "outputs": [],
   "source": []
  },
  {
   "cell_type": "code",
   "execution_count": null,
   "id": "28aa1ede",
   "metadata": {},
   "outputs": [],
   "source": []
  },
  {
   "cell_type": "code",
   "execution_count": null,
   "id": "a5e7c35f",
   "metadata": {},
   "outputs": [],
   "source": []
  },
  {
   "cell_type": "code",
   "execution_count": 22,
   "id": "d8bde398",
   "metadata": {},
   "outputs": [],
   "source": [
    "fixture_url = 'https://www.transfermarkt.com/super-lig/spieltagtabelle/wettbewerb/TR1?saison_id=2005&spieltag=1'\n",
    "season_requests = requests.get(fixture_url, headers={'User-agent': 'Mozilla/5.0 (X11; Ubuntu; Linux x86_64; rv:61.0) Gecko/20100101 Firefox/61.0'})\n",
    "content = season_requests.content\n",
    "soup = BeautifulSoup(content, 'html.parser')"
   ]
  },
  {
   "cell_type": "code",
   "execution_count": 23,
   "id": "8a7efb26",
   "metadata": {},
   "outputs": [
    {
     "data": {
      "text/plain": [
       "{'Gaziantepspor': ['1', '0', '0', '3:2', '1', '3'],\n",
       " 'Trabzonspor': ['1', '0', '0', '2:1', '1', '3'],\n",
       " 'Galatasaray': ['1', '0', '0', '2:1', '1', '3'],\n",
       " 'Diyarbakirspor': ['1', '0', '0', '1:0', '1', '3'],\n",
       " 'Ankaragücü': ['0', '1', '0', '2:2', '0', '1'],\n",
       " 'Manisaspor': ['0', '1', '0', '2:2', '0', '1'],\n",
       " 'Besiktas': ['0', '1', '0', '1:1', '0', '1'],\n",
       " 'Denizlispor': ['0', '1', '0', '1:1', '0', '1'],\n",
       " 'Ankaraspor': ['0', '1', '0', '1:1', '0', '1'],\n",
       " 'Malatyaspor': ['0', '1', '0', '1:1', '0', '1'],\n",
       " 'Sivasspor': ['0', '1', '0', '1:1', '0', '1'],\n",
       " 'Erciyesspor': ['0', '1', '0', '1:1', '0', '1'],\n",
       " 'Fenerbahce': ['0', '1', '0', '0:0', '0', '1'],\n",
       " 'Genclerbirligi': ['0', '1', '0', '0:0', '0', '1'],\n",
       " 'Samsunspor': ['0', '0', '1', '2:3', '-1', 0],\n",
       " 'Konyaspor': ['0', '0', '1', '1:2', '-1', 0],\n",
       " 'Kayserispor': ['0', '0', '1', '1:2', '-1', 0],\n",
       " 'Rizespor': ['0', '0', '1', '0:1', '-1', 0]}"
      ]
     },
     "execution_count": 23,
     "metadata": {},
     "output_type": "execute_result"
    }
   ],
   "source": [
    "table_information = {}\n",
    "all = soup.find_all(\"table\")\n",
    "table = all[4].find_all(\"tr\")\n",
    "table = table[1:]\n",
    "\n",
    "for index, _ in enumerate(table):\n",
    "    score_list = []\n",
    "    team_name = table[index].find_all(\"td\", {\"class\": \"no-border-links hauptlink\"})\n",
    "    team_name = team_name[0].find_all(\"a\", {\"class\": \"vereinprofil_tooltip\"})\n",
    "    name = team_name[0].text.strip()\n",
    "    name = name.split('.')[-1].strip()\n",
    "\n",
    "    score_info = table[index].find_all(\"td\", {\"class\": \"zentriert\"})[2:]\n",
    "    for index, _ in enumerate(score_info):\n",
    "        if score_info[index].text.strip() == '-':\n",
    "            score_list.append(0)\n",
    "        else:\n",
    "            score_list.append(score_info[index].text.strip())\n",
    "\n",
    "    table_information[name] = score_list\n",
    "\n",
    "table_information"
   ]
  },
  {
   "cell_type": "markdown",
   "id": "afa91af4",
   "metadata": {
    "collapsed": true
   },
   "source": [
    "## Get Club Data"
   ]
  },
  {
   "cell_type": "code",
   "execution_count": 29,
   "id": "70e53ef4",
   "metadata": {},
   "outputs": [],
   "source": [
    "club_table_url = 'https://www.transfermarkt.com/super-lig/startseite/wettbewerb/TR1/saison_id/'\n",
    "clubs_requests = requests.get(club_table_url + str(2005), \n",
    "                headers={'User-agent': 'Mozilla/5.0 (X11; Ubuntu; Linux x86_64; rv:61.0) Gecko/20100101 Firefox/61.0'})\n",
    "club_content = clubs_requests.content\n",
    "soup = BeautifulSoup(club_content, 'html.parser')"
   ]
  },
  {
   "cell_type": "code",
   "execution_count": 58,
   "id": "ecc3284e",
   "metadata": {},
   "outputs": [
    {
     "data": {
      "text/plain": [
       "[<tbody>\n",
       " <tr class=\"odd\">\n",
       " <td class=\"zentriert no-border-rechts\"><a class=\"vereinprofil_tooltip\" href=\"/fenerbahce-istanbul/startseite/verein/36/saison_id/2005\"><img alt=\"Fenerbahce SK\" class=\"tiny_wappen\" src=\"https://tmssl.akamaized.net/images/wappen/tiny/36.png?lm=1406739123\" title=\" \"/></a></td><td class=\"hauptlink no-border-links hide-for-small hide-for-pad\"><a class=\"vereinprofil_tooltip\" href=\"/fenerbahce-istanbul/startseite/verein/36/saison_id/2005\" id=\"36\">Fenerbahce SK</a> <a href=\"#\"><img alt=\"Turkish Champion 04/05\" class=\"tabelle-erfolg\" src=\"https://tmssl.akamaized.net/images/erfolge/mini/20.png?lm=1520606999\" title=\"Turkish Champion 04/05\"/></a></td><td class=\"hauptlink no-border-links show-for-small show-for-pad\"><a class=\"vereinprofil_tooltip\" href=\"/fenerbahce-istanbul/startseite/verein/36/saison_id/2005\" id=\"36\">Fenerbahce</a></td><td class=\"zentriert\"><a href=\"/fenerbahce-sk/kader/verein/36/saison_id/2005\" title=\"Fenerbahce SK\">25</a></td><td class=\"zentriert hide-for-small hide-for-pad\">24.3</td><td class=\"zentriert hide-for-pad hide-for-small\">5</td><td class=\"rechts hide-for-small hide-for-pad\">€3.60m</td><td class=\"rechts hide-for-small hide-for-pad\"><a href=\"/fenerbahce-sk/kader/verein/36/saison_id/2005\" title=\"Fenerbahce SK\">€90.10m</a></td><td class=\"rechts show-for-small show-for-pad nowrap\">€3.60m</td><td class=\"rechts show-for-small show-for-pad nowrap\"><a href=\"/fenerbahce-sk/kader/verein/36/saison_id/2005\" title=\"Fenerbahce SK\">€90.10m</a></td></tr>\n",
       " <tr class=\"even\">\n",
       " <td class=\"zentriert no-border-rechts\"><a class=\"vereinprofil_tooltip\" href=\"/besiktas-istanbul/startseite/verein/114/saison_id/2005\"><img alt=\"Besiktas JK\" class=\"tiny_wappen\" src=\"https://tmssl.akamaized.net/images/wappen/tiny/114.png?lm=1502974502\" title=\" \"/></a></td><td class=\"hauptlink no-border-links hide-for-small hide-for-pad\"><a class=\"vereinprofil_tooltip\" href=\"/besiktas-istanbul/startseite/verein/114/saison_id/2005\" id=\"114\">Besiktas JK</a> </td><td class=\"hauptlink no-border-links show-for-small show-for-pad\"><a class=\"vereinprofil_tooltip\" href=\"/besiktas-istanbul/startseite/verein/114/saison_id/2005\" id=\"114\">Besiktas</a></td><td class=\"zentriert\"><a href=\"/besiktas-jk/kader/verein/114/saison_id/2005\" title=\"Besiktas JK\">39</a></td><td class=\"zentriert hide-for-small hide-for-pad\">24.7</td><td class=\"zentriert hide-for-pad hide-for-small\">9</td><td class=\"rechts hide-for-small hide-for-pad\">€2.14m</td><td class=\"rechts hide-for-small hide-for-pad\"><a href=\"/besiktas-jk/kader/verein/114/saison_id/2005\" title=\"Besiktas JK\">€83.55m</a></td><td class=\"rechts show-for-small show-for-pad nowrap\">€2.14m</td><td class=\"rechts show-for-small show-for-pad nowrap\"><a href=\"/besiktas-jk/kader/verein/114/saison_id/2005\" title=\"Besiktas JK\">€83.55m</a></td></tr>\n",
       " <tr class=\"odd\">\n",
       " <td class=\"zentriert no-border-rechts\"><a class=\"vereinprofil_tooltip\" href=\"/galatasaray-istanbul/startseite/verein/141/saison_id/2005\"><img alt=\"Galatasaray A.S.\" class=\"tiny_wappen\" src=\"https://tmssl.akamaized.net/images/wappen/tiny/141.png?lm=1406739071\" title=\" \"/></a></td><td class=\"hauptlink no-border-links hide-for-small hide-for-pad\"><a class=\"vereinprofil_tooltip\" href=\"/galatasaray-istanbul/startseite/verein/141/saison_id/2005\" id=\"141\">Galatasaray A.S.</a> <a href=\"#\"><img alt=\"Turkish cup winner 04/05\" class=\"tabelle-erfolg\" src=\"https://tmssl.akamaized.net/images/erfolge/mini/148.png?lm=1520606997\" title=\"Turkish cup winner 04/05\"/></a></td><td class=\"hauptlink no-border-links show-for-small show-for-pad\"><a class=\"vereinprofil_tooltip\" href=\"/galatasaray-istanbul/startseite/verein/141/saison_id/2005\" id=\"141\">Galatasaray</a></td><td class=\"zentriert\"><a href=\"/galatasaray-a-s-/kader/verein/141/saison_id/2005\" title=\"Galatasaray A.S.\">35</a></td><td class=\"zentriert hide-for-small hide-for-pad\">23.7</td><td class=\"zentriert hide-for-pad hide-for-small\">6</td><td class=\"rechts hide-for-small hide-for-pad\">€1.85m</td><td class=\"rechts hide-for-small hide-for-pad\"><a href=\"/galatasaray-a-s-/kader/verein/141/saison_id/2005\" title=\"Galatasaray A.S.\">€64.90m</a></td><td class=\"rechts show-for-small show-for-pad nowrap\">€1.85m</td><td class=\"rechts show-for-small show-for-pad nowrap\"><a href=\"/galatasaray-a-s-/kader/verein/141/saison_id/2005\" title=\"Galatasaray A.S.\">€64.90m</a></td></tr>\n",
       " <tr class=\"even\">\n",
       " <td class=\"zentriert no-border-rechts\"><a class=\"vereinprofil_tooltip\" href=\"/trabzonspor/startseite/verein/449/saison_id/2005\"><img alt=\"Trabzonspor\" class=\"tiny_wappen\" src=\"https://tmssl.akamaized.net/images/wappen/tiny/449.png?lm=1565126058\" title=\" \"/></a></td><td class=\"hauptlink no-border-links hide-for-small hide-for-pad\"><a class=\"vereinprofil_tooltip\" href=\"/trabzonspor/startseite/verein/449/saison_id/2005\" id=\"449\">Trabzonspor</a> </td><td class=\"hauptlink no-border-links show-for-small show-for-pad\"><a class=\"vereinprofil_tooltip\" href=\"/trabzonspor/startseite/verein/449/saison_id/2005\" id=\"449\">Trabzonspor</a></td><td class=\"zentriert\"><a href=\"/trabzonspor/kader/verein/449/saison_id/2005\" title=\"Trabzonspor\">34</a></td><td class=\"zentriert hide-for-small hide-for-pad\">23.6</td><td class=\"zentriert hide-for-pad hide-for-small\">8</td><td class=\"rechts hide-for-small hide-for-pad\">€1.69m</td><td class=\"rechts hide-for-small hide-for-pad\"><a href=\"/trabzonspor/kader/verein/449/saison_id/2005\" title=\"Trabzonspor\">€57.60m</a></td><td class=\"rechts show-for-small show-for-pad nowrap\">€1.69m</td><td class=\"rechts show-for-small show-for-pad nowrap\"><a href=\"/trabzonspor/kader/verein/449/saison_id/2005\" title=\"Trabzonspor\">€57.60m</a></td></tr>\n",
       " <tr class=\"odd\">\n",
       " <td class=\"zentriert no-border-rechts\"><a class=\"vereinprofil_tooltip\" href=\"/konyaspor/startseite/verein/2293/saison_id/2005\"><img alt=\"Konyaspor\" class=\"tiny_wappen\" src=\"https://tmssl.akamaized.net/images/wappen/tiny/2293.png?lm=1519828204\" title=\" \"/></a></td><td class=\"hauptlink no-border-links hide-for-small hide-for-pad\"><a class=\"vereinprofil_tooltip\" href=\"/konyaspor/startseite/verein/2293/saison_id/2005\" id=\"2293\">Konyaspor</a> </td><td class=\"hauptlink no-border-links show-for-small show-for-pad\"><a class=\"vereinprofil_tooltip\" href=\"/konyaspor/startseite/verein/2293/saison_id/2005\" id=\"2293\">Konyaspor</a></td><td class=\"zentriert\"><a href=\"/konyaspor/kader/verein/2293/saison_id/2005\" title=\"Konyaspor\">31</a></td><td class=\"zentriert hide-for-small hide-for-pad\">25.4</td><td class=\"zentriert hide-for-pad hide-for-small\">7</td><td class=\"rechts hide-for-small hide-for-pad\">€1.07m</td><td class=\"rechts hide-for-small hide-for-pad\"><a href=\"/konyaspor/kader/verein/2293/saison_id/2005\" title=\"Konyaspor\">€33.27m</a></td><td class=\"rechts show-for-small show-for-pad nowrap\">€1.07m</td><td class=\"rechts show-for-small show-for-pad nowrap\"><a href=\"/konyaspor/kader/verein/2293/saison_id/2005\" title=\"Konyaspor\">€33.27m</a></td></tr>\n",
       " <tr class=\"even\">\n",
       " <td class=\"zentriert no-border-rechts\"><a class=\"vereinprofil_tooltip\" href=\"/mke-ankaragucu/startseite/verein/868/saison_id/2005\"><img alt=\"MKE Ankaragücü\" class=\"tiny_wappen\" src=\"https://tmssl.akamaized.net/images/wappen/tiny/868.png?lm=1582635029\" title=\" \"/></a></td><td class=\"hauptlink no-border-links hide-for-small hide-for-pad\"><a class=\"vereinprofil_tooltip\" href=\"/mke-ankaragucu/startseite/verein/868/saison_id/2005\" id=\"868\">MKE Ankaragücü</a> </td><td class=\"hauptlink no-border-links show-for-small show-for-pad\"><a class=\"vereinprofil_tooltip\" href=\"/mke-ankaragucu/startseite/verein/868/saison_id/2005\" id=\"868\">Ankaragücü</a></td><td class=\"zentriert\"><a href=\"/mke-ankaragucu/kader/verein/868/saison_id/2005\" title=\"MKE Ankaragücü\">41</a></td><td class=\"zentriert hide-for-small hide-for-pad\">24.5</td><td class=\"zentriert hide-for-pad hide-for-small\">9</td><td class=\"rechts hide-for-small hide-for-pad\">€771Th.</td><td class=\"rechts hide-for-small hide-for-pad\"><a href=\"/mke-ankaragucu/kader/verein/868/saison_id/2005\" title=\"MKE Ankaragücü\">€31.61m</a></td><td class=\"rechts show-for-small show-for-pad nowrap\">€771Th.</td><td class=\"rechts show-for-small show-for-pad nowrap\"><a href=\"/mke-ankaragucu/kader/verein/868/saison_id/2005\" title=\"MKE Ankaragücü\">€31.61m</a></td></tr>\n",
       " <tr class=\"odd\">\n",
       " <td class=\"zentriert no-border-rechts\"><a class=\"vereinprofil_tooltip\" href=\"/ankaraspor/startseite/verein/2944/saison_id/2005\"><img alt=\"Ankaraspor\" src=\"https://tmssl.akamaized.net/images/wappen/tiny/2944_1444100514.png?lm=1444100514\" title=\" \"/></a></td><td class=\"hauptlink no-border-links hide-for-small hide-for-pad\"><a class=\"vereinprofil_tooltip\" href=\"/ankaraspor/startseite/verein/2944/saison_id/2005\" id=\"2944\">Ankaraspor</a> </td><td class=\"hauptlink no-border-links show-for-small show-for-pad\"><a class=\"vereinprofil_tooltip\" href=\"/ankaraspor/startseite/verein/2944/saison_id/2005\" id=\"2944\">Ankaraspor</a></td><td class=\"zentriert\"><a href=\"/ankaraspor/kader/verein/2944/saison_id/2005\" title=\"Ankaraspor\">31</a></td><td class=\"zentriert hide-for-small hide-for-pad\">25.2</td><td class=\"zentriert hide-for-pad hide-for-small\">8</td><td class=\"rechts hide-for-small hide-for-pad\">€950Th.</td><td class=\"rechts hide-for-small hide-for-pad\"><a href=\"/ankaraspor/kader/verein/2944/saison_id/2005\" title=\"Ankaraspor\">€29.45m</a></td><td class=\"rechts show-for-small show-for-pad nowrap\">€950Th.</td><td class=\"rechts show-for-small show-for-pad nowrap\"><a href=\"/ankaraspor/kader/verein/2944/saison_id/2005\" title=\"Ankaraspor\">€29.45m</a></td></tr>\n",
       " <tr class=\"even\">\n",
       " <td class=\"zentriert no-border-rechts\"><a class=\"vereinprofil_tooltip\" href=\"/gaziantepspor/startseite/verein/524/saison_id/2005\"><img alt=\"Gaziantepspor\" class=\"tiny_wappen\" src=\"https://tmssl.akamaized.net/images/wappen/tiny/524.png?lm=1408654192\" title=\" \"/></a></td><td class=\"hauptlink no-border-links hide-for-small hide-for-pad\"><a class=\"vereinprofil_tooltip\" href=\"/gaziantepspor/startseite/verein/524/saison_id/2005\" id=\"524\">Gaziantepspor</a> </td><td class=\"hauptlink no-border-links show-for-small show-for-pad\"><a class=\"vereinprofil_tooltip\" href=\"/gaziantepspor/startseite/verein/524/saison_id/2005\" id=\"524\">Gaziantepspor</a></td><td class=\"zentriert\"><a href=\"/gaziantepspor/kader/verein/524/saison_id/2005\" title=\"Gaziantepspor\">39</a></td><td class=\"zentriert hide-for-small hide-for-pad\">23.2</td><td class=\"zentriert hide-for-pad hide-for-small\">11</td><td class=\"rechts hide-for-small hide-for-pad\">€738Th.</td><td class=\"rechts hide-for-small hide-for-pad\"><a href=\"/gaziantepspor/kader/verein/524/saison_id/2005\" title=\"Gaziantepspor\">€28.80m</a></td><td class=\"rechts show-for-small show-for-pad nowrap\">€738Th.</td><td class=\"rechts show-for-small show-for-pad nowrap\"><a href=\"/gaziantepspor/kader/verein/524/saison_id/2005\" title=\"Gaziantepspor\">€28.80m</a></td></tr>\n",
       " <tr class=\"odd\">\n",
       " <td class=\"zentriert no-border-rechts\"><a class=\"vereinprofil_tooltip\" href=\"/samsunspor/startseite/verein/152/saison_id/2005\"><img alt=\"Samsunspor\" class=\"tiny_wappen\" src=\"https://tmssl.akamaized.net/images/wappen/tiny/152.png?lm=1601939192\" title=\" \"/></a></td><td class=\"hauptlink no-border-links hide-for-small hide-for-pad\"><a class=\"vereinprofil_tooltip\" href=\"/samsunspor/startseite/verein/152/saison_id/2005\" id=\"152\">Samsunspor</a> </td><td class=\"hauptlink no-border-links show-for-small show-for-pad\"><a class=\"vereinprofil_tooltip\" href=\"/samsunspor/startseite/verein/152/saison_id/2005\" id=\"152\">Samsunspor</a></td><td class=\"zentriert\"><a href=\"/samsunspor/kader/verein/152/saison_id/2005\" title=\"Samsunspor\">36</a></td><td class=\"zentriert hide-for-small hide-for-pad\">24.6</td><td class=\"zentriert hide-for-pad hide-for-small\">11</td><td class=\"rechts hide-for-small hide-for-pad\">€800Th.</td><td class=\"rechts hide-for-small hide-for-pad\"><a href=\"/samsunspor/kader/verein/152/saison_id/2005\" title=\"Samsunspor\">€28.80m</a></td><td class=\"rechts show-for-small show-for-pad nowrap\">€800Th.</td><td class=\"rechts show-for-small show-for-pad nowrap\"><a href=\"/samsunspor/kader/verein/152/saison_id/2005\" title=\"Samsunspor\">€28.80m</a></td></tr>\n",
       " <tr class=\"even\">\n",
       " <td class=\"zentriert no-border-rechts\"><a class=\"vereinprofil_tooltip\" href=\"/malatyaspor/startseite/verein/1264/saison_id/2005\"><img alt=\"Malatyaspor\" class=\"tiny_wappen\" src=\"https://tmssl.akamaized.net/images/wappen/tiny/1264.png?lm=1441755509\" title=\" \"/></a></td><td class=\"hauptlink no-border-links hide-for-small hide-for-pad\"><a class=\"vereinprofil_tooltip\" href=\"/malatyaspor/startseite/verein/1264/saison_id/2005\" id=\"1264\">Malatyaspor</a> </td><td class=\"hauptlink no-border-links show-for-small show-for-pad\"><a class=\"vereinprofil_tooltip\" href=\"/malatyaspor/startseite/verein/1264/saison_id/2005\" id=\"1264\">Malatyaspor</a></td><td class=\"zentriert\"><a href=\"/malatyaspor/kader/verein/1264/saison_id/2005\" title=\"Malatyaspor\">37</a></td><td class=\"zentriert hide-for-small hide-for-pad\">24.3</td><td class=\"zentriert hide-for-pad hide-for-small\">10</td><td class=\"rechts hide-for-small hide-for-pad\">€764Th.</td><td class=\"rechts hide-for-small hide-for-pad\"><a href=\"/malatyaspor/kader/verein/1264/saison_id/2005\" title=\"Malatyaspor\">€28.25m</a></td><td class=\"rechts show-for-small show-for-pad nowrap\">€764Th.</td><td class=\"rechts show-for-small show-for-pad nowrap\"><a href=\"/malatyaspor/kader/verein/1264/saison_id/2005\" title=\"Malatyaspor\">€28.25m</a></td></tr>\n",
       " <tr class=\"odd\">\n",
       " <td class=\"zentriert no-border-rechts\"><a class=\"vereinprofil_tooltip\" href=\"/denizlispor/startseite/verein/833/saison_id/2005\"><img alt=\"Denizlispor\" class=\"tiny_wappen\" src=\"https://tmssl.akamaized.net/images/wappen/tiny/833.png?lm=1415444729\" title=\" \"/></a></td><td class=\"hauptlink no-border-links hide-for-small hide-for-pad\"><a class=\"vereinprofil_tooltip\" href=\"/denizlispor/startseite/verein/833/saison_id/2005\" id=\"833\">Denizlispor</a> </td><td class=\"hauptlink no-border-links show-for-small show-for-pad\"><a class=\"vereinprofil_tooltip\" href=\"/denizlispor/startseite/verein/833/saison_id/2005\" id=\"833\">Denizlispor</a></td><td class=\"zentriert\"><a href=\"/denizlispor/kader/verein/833/saison_id/2005\" title=\"Denizlispor\">35</a></td><td class=\"zentriert hide-for-small hide-for-pad\">24.9</td><td class=\"zentriert hide-for-pad hide-for-small\">8</td><td class=\"rechts hide-for-small hide-for-pad\">€803Th.</td><td class=\"rechts hide-for-small hide-for-pad\"><a href=\"/denizlispor/kader/verein/833/saison_id/2005\" title=\"Denizlispor\">€28.09m</a></td><td class=\"rechts show-for-small show-for-pad nowrap\">€803Th.</td><td class=\"rechts show-for-small show-for-pad nowrap\"><a href=\"/denizlispor/kader/verein/833/saison_id/2005\" title=\"Denizlispor\">€28.09m</a></td></tr>\n",
       " <tr class=\"even\">\n",
       " <td class=\"zentriert no-border-rechts\"><a class=\"vereinprofil_tooltip\" href=\"/diyarbakirspor/startseite/verein/845/saison_id/2005\"><img alt=\"Diyarbakirspor\" class=\"tiny_wappen\" src=\"https://tmssl.akamaized.net/images/wappen/tiny/845.png?lm=1441811244\" title=\" \"/></a></td><td class=\"hauptlink no-border-links hide-for-small hide-for-pad\"><a class=\"vereinprofil_tooltip\" href=\"/diyarbakirspor/startseite/verein/845/saison_id/2005\" id=\"845\">Diyarbakirspor</a> </td><td class=\"hauptlink no-border-links show-for-small show-for-pad\"><a class=\"vereinprofil_tooltip\" href=\"/diyarbakirspor/startseite/verein/845/saison_id/2005\" id=\"845\">Diyarbakirspor</a></td><td class=\"zentriert\"><a href=\"/diyarbakirspor/kader/verein/845/saison_id/2005\" title=\"Diyarbakirspor\">38</a></td><td class=\"zentriert hide-for-small hide-for-pad\">26.6</td><td class=\"zentriert hide-for-pad hide-for-small\">8</td><td class=\"rechts hide-for-small hide-for-pad\">€633Th.</td><td class=\"rechts hide-for-small hide-for-pad\"><a href=\"/diyarbakirspor/kader/verein/845/saison_id/2005\" title=\"Diyarbakirspor\">€24.05m</a></td><td class=\"rechts show-for-small show-for-pad nowrap\">€633Th.</td><td class=\"rechts show-for-small show-for-pad nowrap\"><a href=\"/diyarbakirspor/kader/verein/845/saison_id/2005\" title=\"Diyarbakirspor\">€24.05m</a></td></tr>\n",
       " <tr class=\"odd\">\n",
       " <td class=\"zentriert no-border-rechts\"><a class=\"vereinprofil_tooltip\" href=\"/kayseri-erciyesspor/startseite/verein/6894/saison_id/2005\"><img alt=\"Kayseri Erciyesspor\" class=\"tiny_wappen\" src=\"https://tmssl.akamaized.net/images/wappen/tiny/6894.png?lm=1444097883\" title=\" \"/></a></td><td class=\"hauptlink no-border-links hide-for-small hide-for-pad\"><a class=\"vereinprofil_tooltip\" href=\"/kayseri-erciyesspor/startseite/verein/6894/saison_id/2005\" id=\"6894\">Kayseri Erciyesspor</a> <span class=\"icons_sprite icon-aufsteiger\" title=\"Promoted to 1st league 04/05\"> </span></td><td class=\"hauptlink no-border-links show-for-small show-for-pad\"><a class=\"vereinprofil_tooltip\" href=\"/kayseri-erciyesspor/startseite/verein/6894/saison_id/2005\" id=\"6894\">K. Erciyesspor</a></td><td class=\"zentriert\"><a href=\"/kayseri-erciyesspor/kader/verein/6894/saison_id/2005\" title=\"Kayseri Erciyesspor\">33</a></td><td class=\"zentriert hide-for-small hide-for-pad\">25.8</td><td class=\"zentriert hide-for-pad hide-for-small\">8</td><td class=\"rechts hide-for-small hide-for-pad\">€688Th.</td><td class=\"rechts hide-for-small hide-for-pad\"><a href=\"/kayseri-erciyesspor/kader/verein/6894/saison_id/2005\" title=\"Kayseri Erciyesspor\">€22.70m</a></td><td class=\"rechts show-for-small show-for-pad nowrap\">€688Th.</td><td class=\"rechts show-for-small show-for-pad nowrap\"><a href=\"/kayseri-erciyesspor/kader/verein/6894/saison_id/2005\" title=\"Kayseri Erciyesspor\">€22.70m</a></td></tr>\n",
       " <tr class=\"even\">\n",
       " <td class=\"zentriert no-border-rechts\"><a class=\"vereinprofil_tooltip\" href=\"/genclerbirligi-ankara/startseite/verein/820/saison_id/2005\"><img alt=\"Genclerbirligi Ankara\" class=\"tiny_wappen\" src=\"https://tmssl.akamaized.net/images/wappen/tiny/820.png?lm=1408653608\" title=\" \"/></a></td><td class=\"hauptlink no-border-links hide-for-small hide-for-pad\"><a class=\"vereinprofil_tooltip\" href=\"/genclerbirligi-ankara/startseite/verein/820/saison_id/2005\" id=\"820\">Genclerbirligi Ankara</a> </td><td class=\"hauptlink no-border-links show-for-small show-for-pad\"><a class=\"vereinprofil_tooltip\" href=\"/genclerbirligi-ankara/startseite/verein/820/saison_id/2005\" id=\"820\">Genclerbirligi</a></td><td class=\"zentriert\"><a href=\"/genclerbirligi-ankara/kader/verein/820/saison_id/2005\" title=\"Genclerbirligi Ankara\">34</a></td><td class=\"zentriert hide-for-small hide-for-pad\">23.4</td><td class=\"zentriert hide-for-pad hide-for-small\">9</td><td class=\"rechts hide-for-small hide-for-pad\">€609Th.</td><td class=\"rechts hide-for-small hide-for-pad\"><a href=\"/genclerbirligi-ankara/kader/verein/820/saison_id/2005\" title=\"Genclerbirligi Ankara\">€20.70m</a></td><td class=\"rechts show-for-small show-for-pad nowrap\">€609Th.</td><td class=\"rechts show-for-small show-for-pad nowrap\"><a href=\"/genclerbirligi-ankara/kader/verein/820/saison_id/2005\" title=\"Genclerbirligi Ankara\">€20.70m</a></td></tr>\n",
       " <tr class=\"odd\">\n",
       " <td class=\"zentriert no-border-rechts\"><a class=\"vereinprofil_tooltip\" href=\"/manisaspor/startseite/verein/1267/saison_id/2005\"><img alt=\"Manisaspor\" class=\"tiny_wappen\" src=\"https://tmssl.akamaized.net/images/wappen/tiny/1267.png?lm=1415444581\" title=\" \"/></a></td><td class=\"hauptlink no-border-links hide-for-small hide-for-pad\"><a class=\"vereinprofil_tooltip\" href=\"/manisaspor/startseite/verein/1267/saison_id/2005\" id=\"1267\">Manisaspor</a> <span class=\"icons_sprite icon-aufsteiger\" title=\"Promoted to 1st league 04/05\"> </span></td><td class=\"hauptlink no-border-links show-for-small show-for-pad\"><a class=\"vereinprofil_tooltip\" href=\"/manisaspor/startseite/verein/1267/saison_id/2005\" id=\"1267\">Manisaspor</a></td><td class=\"zentriert\"><a href=\"/manisaspor/kader/verein/1267/saison_id/2005\" title=\"Manisaspor\">40</a></td><td class=\"zentriert hide-for-small hide-for-pad\">23.7</td><td class=\"zentriert hide-for-pad hide-for-small\">9</td><td class=\"rechts hide-for-small hide-for-pad\">€499Th.</td><td class=\"rechts hide-for-small hide-for-pad\"><a href=\"/manisaspor/kader/verein/1267/saison_id/2005\" title=\"Manisaspor\">€19.98m</a></td><td class=\"rechts show-for-small show-for-pad nowrap\">€499Th.</td><td class=\"rechts show-for-small show-for-pad nowrap\"><a href=\"/manisaspor/kader/verein/1267/saison_id/2005\" title=\"Manisaspor\">€19.98m</a></td></tr>\n",
       " <tr class=\"even\">\n",
       " <td class=\"zentriert no-border-rechts\"><a class=\"vereinprofil_tooltip\" href=\"/kayserispor/startseite/verein/3205/saison_id/2005\"><img alt=\"Kayserispor\" class=\"tiny_wappen\" src=\"https://tmssl.akamaized.net/images/wappen/tiny/3205.png?lm=1520239955\" title=\" \"/></a></td><td class=\"hauptlink no-border-links hide-for-small hide-for-pad\"><a class=\"vereinprofil_tooltip\" href=\"/kayserispor/startseite/verein/3205/saison_id/2005\" id=\"3205\">Kayserispor</a> </td><td class=\"hauptlink no-border-links show-for-small show-for-pad\"><a class=\"vereinprofil_tooltip\" href=\"/kayserispor/startseite/verein/3205/saison_id/2005\" id=\"3205\">Kayserispor</a></td><td class=\"zentriert\"><a href=\"/kayserispor/kader/verein/3205/saison_id/2005\" title=\"Kayserispor\">34</a></td><td class=\"zentriert hide-for-small hide-for-pad\">22.6</td><td class=\"zentriert hide-for-pad hide-for-small\">6</td><td class=\"rechts hide-for-small hide-for-pad\">€512Th.</td><td class=\"rechts hide-for-small hide-for-pad\"><a href=\"/kayserispor/kader/verein/3205/saison_id/2005\" title=\"Kayserispor\">€17.40m</a></td><td class=\"rechts show-for-small show-for-pad nowrap\">€512Th.</td><td class=\"rechts show-for-small show-for-pad nowrap\"><a href=\"/kayserispor/kader/verein/3205/saison_id/2005\" title=\"Kayserispor\">€17.40m</a></td></tr>\n",
       " <tr class=\"odd\">\n",
       " <td class=\"zentriert no-border-rechts\"><a class=\"vereinprofil_tooltip\" href=\"/caykur-rizespor/startseite/verein/126/saison_id/2005\"><img alt=\"Caykur Rizespor\" class=\"tiny_wappen\" src=\"https://tmssl.akamaized.net/images/wappen/tiny/126.png?lm=1443714784\" title=\" \"/></a></td><td class=\"hauptlink no-border-links hide-for-small hide-for-pad\"><a class=\"vereinprofil_tooltip\" href=\"/caykur-rizespor/startseite/verein/126/saison_id/2005\" id=\"126\">Caykur Rizespor</a> </td><td class=\"hauptlink no-border-links show-for-small show-for-pad\"><a class=\"vereinprofil_tooltip\" href=\"/caykur-rizespor/startseite/verein/126/saison_id/2005\" id=\"126\">C. Rizespor</a></td><td class=\"zentriert\"><a href=\"/caykur-rizespor/kader/verein/126/saison_id/2005\" title=\"Caykur Rizespor\">34</a></td><td class=\"zentriert hide-for-small hide-for-pad\">24.8</td><td class=\"zentriert hide-for-pad hide-for-small\">9</td><td class=\"rechts hide-for-small hide-for-pad\">€464Th.</td><td class=\"rechts hide-for-small hide-for-pad\"><a href=\"/caykur-rizespor/kader/verein/126/saison_id/2005\" title=\"Caykur Rizespor\">€15.77m</a></td><td class=\"rechts show-for-small show-for-pad nowrap\">€464Th.</td><td class=\"rechts show-for-small show-for-pad nowrap\"><a href=\"/caykur-rizespor/kader/verein/126/saison_id/2005\" title=\"Caykur Rizespor\">€15.77m</a></td></tr>\n",
       " <tr class=\"even\">\n",
       " <td class=\"zentriert no-border-rechts\"><a class=\"vereinprofil_tooltip\" href=\"/sivasspor/startseite/verein/2381/saison_id/2005\"><img alt=\"Sivasspor\" class=\"tiny_wappen\" src=\"https://tmssl.akamaized.net/images/wappen/tiny/2381.png?lm=1408653992\" title=\" \"/></a></td><td class=\"hauptlink no-border-links hide-for-small hide-for-pad\"><a class=\"vereinprofil_tooltip\" href=\"/sivasspor/startseite/verein/2381/saison_id/2005\" id=\"2381\">Sivasspor</a> <span class=\"icons_sprite icon-aufsteiger\" title=\"Promoted to 1st league 04/05\"> </span></td><td class=\"hauptlink no-border-links show-for-small show-for-pad\"><a class=\"vereinprofil_tooltip\" href=\"/sivasspor/startseite/verein/2381/saison_id/2005\" id=\"2381\">Sivasspor</a></td><td class=\"zentriert\"><a href=\"/sivasspor/kader/verein/2381/saison_id/2005\" title=\"Sivasspor\">32</a></td><td class=\"zentriert hide-for-small hide-for-pad\">25.3</td><td class=\"zentriert hide-for-pad hide-for-small\">8</td><td class=\"rechts hide-for-small hide-for-pad\">€481Th.</td><td class=\"rechts hide-for-small hide-for-pad\"><a href=\"/sivasspor/kader/verein/2381/saison_id/2005\" title=\"Sivasspor\">€15.40m</a></td><td class=\"rechts show-for-small show-for-pad nowrap\">€481Th.</td><td class=\"rechts show-for-small show-for-pad nowrap\"><a href=\"/sivasspor/kader/verein/2381/saison_id/2005\" title=\"Sivasspor\">€15.40m</a></td></tr>\n",
       " </tbody>]"
      ]
     },
     "execution_count": 58,
     "metadata": {},
     "output_type": "execute_result"
    }
   ],
   "source": [
    "all = soup.find_all(\"table\", {\"class\": \"items\"})\n",
    "table_all = all[0].find_all(\"tbody\")\n",
    "table_all"
   ]
  },
  {
   "cell_type": "code",
   "execution_count": 84,
   "id": "172d5a99",
   "metadata": {},
   "outputs": [
    {
     "data": {
      "text/plain": [
       "{'Fenerbahce': [],\n",
       " 'Besiktas': [],\n",
       " 'Galatasaray': [],\n",
       " 'Trabzonspor': [],\n",
       " 'Konyaspor': [],\n",
       " 'Ankaragücü': [],\n",
       " 'Ankaraspor': [],\n",
       " 'Gaziantepspor': [],\n",
       " 'Samsunspor': [],\n",
       " 'Malatyaspor': [],\n",
       " 'Denizlispor': [],\n",
       " 'Diyarbakirspor': [],\n",
       " 'Erciyesspor': [],\n",
       " 'Genclerbirligi': [],\n",
       " 'Manisaspor': [],\n",
       " 'Kayserispor': [],\n",
       " 'Rizespor': [],\n",
       " 'Sivasspor': []}"
      ]
     },
     "execution_count": 84,
     "metadata": {},
     "output_type": "execute_result"
    }
   ],
   "source": [
    "teams = table_all[0].find_all(\"td\", {\"class\": \"hauptlink no-border-links show-for-small show-for-pad\"})\n",
    "team_names = {}\n",
    "\n",
    "for index, _ in enumerate(teams):\n",
    "    name = teams[index].text.strip()\n",
    "    name = name.split('.')\n",
    "    team_names[name[-1].strip()] = []\n",
    "    \n",
    "team_names"
   ]
  },
  {
   "cell_type": "code",
   "execution_count": 145,
   "id": "296e572b",
   "metadata": {},
   "outputs": [
    {
     "data": {
      "text/plain": [
       "[[25, 24.3, 5],\n",
       " [39, 24.7, 9],\n",
       " [35, 23.7, 6],\n",
       " [34, 23.6, 8],\n",
       " [31, 25.4, 7],\n",
       " [41, 24.5, 9],\n",
       " [31, 25.2, 8],\n",
       " [39, 23.2, 11],\n",
       " [36, 24.6, 11],\n",
       " [37, 24.3, 10],\n",
       " [35, 24.9, 8],\n",
       " [38, 26.6, 8],\n",
       " [33, 25.8, 8],\n",
       " [34, 23.4, 9],\n",
       " [40, 23.7, 9],\n",
       " [34, 22.6, 6],\n",
       " [34, 24.8, 9],\n",
       " [32, 25.3, 8]]"
      ]
     },
     "execution_count": 145,
     "metadata": {},
     "output_type": "execute_result"
    }
   ],
   "source": [
    "team_info_list = []\n",
    "odd_team_info = []\n",
    "even_team_info = []\n",
    "\n",
    "odd_teams = table_all[0].find_all(\"tr\", {\"class\": \"odd\"})\n",
    "even_teams = table_all[0].find_all(\"tr\", {\"class\": \"even\"})\n",
    "\n",
    "for index, _ in enumerate(odd_teams):\n",
    "    curr_team = odd_teams[index]\n",
    "    \n",
    "    # Get squad size, average age, and number of foreigners\n",
    "    squad_info = odd_teams[index].find_all(\"td\", {\"class\": \"zentriert\"})\n",
    "    tmp_list = []\n",
    "    tmp_list.append(int(squad_info[1].text.strip())) # Squad Size\n",
    "    tmp_list.append(float(squad_info[2].text.strip())) # Average Age\n",
    "    tmp_list.append(int(squad_info[3].text.strip())) # Number of Foreigners\n",
    "    odd_team_info.append(tmp_list)\n",
    "    \n",
    "for index, _ in enumerate(even_teams):\n",
    "    curr_team = even_teams[index]\n",
    "    \n",
    "    # Get squad size, average age, and number of foreigners\n",
    "    squad_info = even_teams[index].find_all(\"td\", {\"class\": \"zentriert\"})\n",
    "    tmp_list = []\n",
    "    tmp_list.append(int(squad_info[1].text.strip())) # Squad Size\n",
    "    tmp_list.append(float(squad_info[2].text.strip())) # Average Age\n",
    "    tmp_list.append(int(squad_info[3].text.strip())) # Number of Foreigners\n",
    "    even_team_info.append(tmp_list)\n",
    "\n",
    "for odd, even in zip(odd_team_info, even_team_info):\n",
    "    team_info_list.append(odd)\n",
    "    team_info_list.append(even)\n",
    "    \n",
    "team_info_list"
   ]
  },
  {
   "cell_type": "code",
   "execution_count": 146,
   "id": "8bbd6b14",
   "metadata": {},
   "outputs": [
    {
     "data": {
      "text/plain": [
       "[<td class=\"rechts hide-for-small hide-for-pad\">€3.60m</td>,\n",
       " <td class=\"rechts hide-for-small hide-for-pad\"><a href=\"/fenerbahce-sk/kader/verein/36/saison_id/2005\" title=\"Fenerbahce SK\">€90.10m</a></td>,\n",
       " <td class=\"rechts hide-for-small hide-for-pad\">€2.14m</td>,\n",
       " <td class=\"rechts hide-for-small hide-for-pad\"><a href=\"/besiktas-jk/kader/verein/114/saison_id/2005\" title=\"Besiktas JK\">€83.55m</a></td>,\n",
       " <td class=\"rechts hide-for-small hide-for-pad\">€1.85m</td>,\n",
       " <td class=\"rechts hide-for-small hide-for-pad\"><a href=\"/galatasaray-a-s-/kader/verein/141/saison_id/2005\" title=\"Galatasaray A.S.\">€64.90m</a></td>,\n",
       " <td class=\"rechts hide-for-small hide-for-pad\">€1.69m</td>,\n",
       " <td class=\"rechts hide-for-small hide-for-pad\"><a href=\"/trabzonspor/kader/verein/449/saison_id/2005\" title=\"Trabzonspor\">€57.60m</a></td>,\n",
       " <td class=\"rechts hide-for-small hide-for-pad\">€1.07m</td>,\n",
       " <td class=\"rechts hide-for-small hide-for-pad\"><a href=\"/konyaspor/kader/verein/2293/saison_id/2005\" title=\"Konyaspor\">€33.27m</a></td>,\n",
       " <td class=\"rechts hide-for-small hide-for-pad\">€771Th.</td>,\n",
       " <td class=\"rechts hide-for-small hide-for-pad\"><a href=\"/mke-ankaragucu/kader/verein/868/saison_id/2005\" title=\"MKE Ankaragücü\">€31.61m</a></td>,\n",
       " <td class=\"rechts hide-for-small hide-for-pad\">€950Th.</td>,\n",
       " <td class=\"rechts hide-for-small hide-for-pad\"><a href=\"/ankaraspor/kader/verein/2944/saison_id/2005\" title=\"Ankaraspor\">€29.45m</a></td>,\n",
       " <td class=\"rechts hide-for-small hide-for-pad\">€738Th.</td>,\n",
       " <td class=\"rechts hide-for-small hide-for-pad\"><a href=\"/gaziantepspor/kader/verein/524/saison_id/2005\" title=\"Gaziantepspor\">€28.80m</a></td>,\n",
       " <td class=\"rechts hide-for-small hide-for-pad\">€800Th.</td>,\n",
       " <td class=\"rechts hide-for-small hide-for-pad\"><a href=\"/samsunspor/kader/verein/152/saison_id/2005\" title=\"Samsunspor\">€28.80m</a></td>,\n",
       " <td class=\"rechts hide-for-small hide-for-pad\">€764Th.</td>,\n",
       " <td class=\"rechts hide-for-small hide-for-pad\"><a href=\"/malatyaspor/kader/verein/1264/saison_id/2005\" title=\"Malatyaspor\">€28.25m</a></td>,\n",
       " <td class=\"rechts hide-for-small hide-for-pad\">€803Th.</td>,\n",
       " <td class=\"rechts hide-for-small hide-for-pad\"><a href=\"/denizlispor/kader/verein/833/saison_id/2005\" title=\"Denizlispor\">€28.09m</a></td>,\n",
       " <td class=\"rechts hide-for-small hide-for-pad\">€633Th.</td>,\n",
       " <td class=\"rechts hide-for-small hide-for-pad\"><a href=\"/diyarbakirspor/kader/verein/845/saison_id/2005\" title=\"Diyarbakirspor\">€24.05m</a></td>,\n",
       " <td class=\"rechts hide-for-small hide-for-pad\">€688Th.</td>,\n",
       " <td class=\"rechts hide-for-small hide-for-pad\"><a href=\"/kayseri-erciyesspor/kader/verein/6894/saison_id/2005\" title=\"Kayseri Erciyesspor\">€22.70m</a></td>,\n",
       " <td class=\"rechts hide-for-small hide-for-pad\">€609Th.</td>,\n",
       " <td class=\"rechts hide-for-small hide-for-pad\"><a href=\"/genclerbirligi-ankara/kader/verein/820/saison_id/2005\" title=\"Genclerbirligi Ankara\">€20.70m</a></td>,\n",
       " <td class=\"rechts hide-for-small hide-for-pad\">€499Th.</td>,\n",
       " <td class=\"rechts hide-for-small hide-for-pad\"><a href=\"/manisaspor/kader/verein/1267/saison_id/2005\" title=\"Manisaspor\">€19.98m</a></td>,\n",
       " <td class=\"rechts hide-for-small hide-for-pad\">€512Th.</td>,\n",
       " <td class=\"rechts hide-for-small hide-for-pad\"><a href=\"/kayserispor/kader/verein/3205/saison_id/2005\" title=\"Kayserispor\">€17.40m</a></td>,\n",
       " <td class=\"rechts hide-for-small hide-for-pad\">€464Th.</td>,\n",
       " <td class=\"rechts hide-for-small hide-for-pad\"><a href=\"/caykur-rizespor/kader/verein/126/saison_id/2005\" title=\"Caykur Rizespor\">€15.77m</a></td>,\n",
       " <td class=\"rechts hide-for-small hide-for-pad\">€481Th.</td>,\n",
       " <td class=\"rechts hide-for-small hide-for-pad\"><a href=\"/sivasspor/kader/verein/2381/saison_id/2005\" title=\"Sivasspor\">€15.40m</a></td>]"
      ]
     },
     "execution_count": 146,
     "metadata": {},
     "output_type": "execute_result"
    }
   ],
   "source": [
    "market_values = table_all[0].find_all(\"td\", {\"class\": \"rechts hide-for-small hide-for-pad\"})\n",
    "market_values"
   ]
  },
  {
   "cell_type": "code",
   "execution_count": 147,
   "id": "f7214c3c",
   "metadata": {},
   "outputs": [
    {
     "data": {
      "text/plain": [
       "[[25, 24.3, 5, 3600, 90100],\n",
       " [39, 24.7, 9, 2140, 83550],\n",
       " [35, 23.7, 6, 1850, 64900],\n",
       " [34, 23.6, 8, 1690, 57600],\n",
       " [31, 25.4, 7, 1070, 33270],\n",
       " [41, 24.5, 9, 771, 31610],\n",
       " [31, 25.2, 8, 950, 29450],\n",
       " [39, 23.2, 11, 738, 28800],\n",
       " [36, 24.6, 11, 800, 28800],\n",
       " [37, 24.3, 10, 764, 28250],\n",
       " [35, 24.9, 8, 803, 28090],\n",
       " [38, 26.6, 8, 633, 24050],\n",
       " [33, 25.8, 8, 688, 22700],\n",
       " [34, 23.4, 9, 609, 20700],\n",
       " [40, 23.7, 9, 499, 19980],\n",
       " [34, 22.6, 6, 512, 17400],\n",
       " [34, 24.8, 9, 464, 15770],\n",
       " [32, 25.3, 8, 481, 15400]]"
      ]
     },
     "execution_count": 147,
     "metadata": {},
     "output_type": "execute_result"
    }
   ],
   "source": [
    "import re\n",
    "avg_market_val_list = market_values[::2]\n",
    "total_market_val_list = market_values[1::2]\n",
    "market_val_list = []\n",
    "\n",
    "index = 0\n",
    "for avg, total in zip(avg_market_val_list, total_market_val_list):\n",
    "    avg_million = False\n",
    "    total_million = False\n",
    "    if 'm' in avg.text:\n",
    "        avg_million = True\n",
    "    if 'm' in total.text:\n",
    "        total_million = True\n",
    "    \n",
    "    if avg_million:\n",
    "        avg_num = round(float(re.findall(\"\\d+\\.\\d+\", avg.text)[0])*1000)\n",
    "    else:\n",
    "        avg_num = round(float(re.findall(r'\\d+', avg.text)[0]))\n",
    "        \n",
    "    if total_million:\n",
    "        total_num = round(float(re.findall(\"\\d+\\.\\d+\", total.text)[0])*1000)\n",
    "    else:\n",
    "        total_num = round(float(re.findall(r'\\d+', avg.text)[0]))\n",
    "        \n",
    "    team_info_list[index].append(avg_num)\n",
    "    team_info_list[index].append(total_num)\n",
    "    index += 1\n",
    "    \n",
    "team_info_list"
   ]
  },
  {
   "cell_type": "code",
   "execution_count": 148,
   "id": "3b68aed9",
   "metadata": {},
   "outputs": [
    {
     "data": {
      "text/plain": [
       "{'Fenerbahce': [25, 24.3, 5, 3600, 90100],\n",
       " 'Besiktas': [39, 24.7, 9, 2140, 83550],\n",
       " 'Galatasaray': [35, 23.7, 6, 1850, 64900],\n",
       " 'Trabzonspor': [34, 23.6, 8, 1690, 57600],\n",
       " 'Konyaspor': [31, 25.4, 7, 1070, 33270],\n",
       " 'Ankaragücü': [41, 24.5, 9, 771, 31610],\n",
       " 'Ankaraspor': [31, 25.2, 8, 950, 29450],\n",
       " 'Gaziantepspor': [39, 23.2, 11, 738, 28800],\n",
       " 'Samsunspor': [36, 24.6, 11, 800, 28800],\n",
       " 'Malatyaspor': [37, 24.3, 10, 764, 28250],\n",
       " 'Denizlispor': [35, 24.9, 8, 803, 28090],\n",
       " 'Diyarbakirspor': [38, 26.6, 8, 633, 24050],\n",
       " 'Erciyesspor': [33, 25.8, 8, 688, 22700],\n",
       " 'Genclerbirligi': [34, 23.4, 9, 609, 20700],\n",
       " 'Manisaspor': [40, 23.7, 9, 499, 19980],\n",
       " 'Kayserispor': [34, 22.6, 6, 512, 17400],\n",
       " 'Rizespor': [34, 24.8, 9, 464, 15770],\n",
       " 'Sivasspor': [32, 25.3, 8, 481, 15400]}"
      ]
     },
     "execution_count": 148,
     "metadata": {},
     "output_type": "execute_result"
    }
   ],
   "source": [
    "index = 0\n",
    "for key in team_names:\n",
    "    team_names[key] = team_info_list[index]\n",
    "    index += 1\n",
    "    \n",
    "team_names"
   ]
  },
  {
   "cell_type": "code",
   "execution_count": null,
   "id": "23a352b6",
   "metadata": {},
   "outputs": [],
   "source": []
  }
 ],
 "metadata": {
  "kernelspec": {
   "display_name": "Python 3",
   "language": "python",
   "name": "python3"
  },
  "language_info": {
   "codemirror_mode": {
    "name": "ipython",
    "version": 3
   },
   "file_extension": ".py",
   "mimetype": "text/x-python",
   "name": "python",
   "nbconvert_exporter": "python",
   "pygments_lexer": "ipython3",
   "version": "3.9.5"
  }
 },
 "nbformat": 4,
 "nbformat_minor": 5
}
