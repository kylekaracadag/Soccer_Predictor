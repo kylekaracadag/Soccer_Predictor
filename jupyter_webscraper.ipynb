{
 "cells": [
  {
   "cell_type": "code",
   "execution_count": 2,
   "id": "8608d5cb",
   "metadata": {},
   "outputs": [],
   "source": [
    "import requests\n",
    "from bs4 import BeautifulSoup\n",
    "import pandas"
   ]
  },
  {
   "cell_type": "code",
   "execution_count": 3,
   "id": "b253e2fe",
   "metadata": {},
   "outputs": [],
   "source": [
    "# fixture_list = []\n",
    "# fixture_url = 'https://www.transfermarkt.com/super-lig/spieltagtabelle/wettbewerb/TR1?saison_id='\n",
    "\n",
    "# for season in range(2005, 2006):\n",
    "#     for matchday in range(1, 2):\n",
    "#         season_requests = requests.get(fixture_url + str(season) + '&spieltag=' + str(matchday), \n",
    "#             headers={'User-agent': 'Mozilla/5.0 (X11; Ubuntu; Linux x86_64; rv:61.0) Gecko/20100101 Firefox/61.0'})\n",
    "\n",
    "#         content = season_requests.content\n",
    "#         soup = BeautifulSoup(content, 'html.parser')\n",
    "#         print(soup.prettify())"
   ]
  },
  {
   "cell_type": "code",
   "execution_count": 4,
   "id": "93d3c4fe",
   "metadata": {},
   "outputs": [],
   "source": [
    "tmp_url = \"https://www.transfermarkt.com/super-lig/spieltagtabelle/wettbewerb/TR1?saison_id=2005&spieltag=1\"\n",
    "r = requests.get(tmp_url, headers={'User-agent': 'Mozilla/5.0 (X11; Ubuntu; Linux x86_64; rv:61.0) Gecko/20100101 Firefox/61.0'})\n",
    "c = r.content\n",
    "soup = BeautifulSoup(c, \"html.parser\")\n",
    "# print(soup.prettify())"
   ]
  },
  {
   "cell_type": "code",
   "execution_count": 5,
   "id": "edb5d899",
   "metadata": {},
   "outputs": [],
   "source": [
    "all = soup.find_all(\"div\", {\"class\": \"responsive-table\"})\n",
    "# all"
   ]
  },
  {
   "cell_type": "code",
   "execution_count": 6,
   "id": "6722564d",
   "metadata": {},
   "outputs": [],
   "source": [
    "home_games = all[0].find_all(\"td\", {\"class\": \"text-right no-border-rechts no-border-links hauptlink hide-for-small\"})\n",
    "# home_games"
   ]
  },
  {
   "cell_type": "code",
   "execution_count": 7,
   "id": "a24fafc1",
   "metadata": {},
   "outputs": [
    {
     "data": {
      "text/plain": [
       "['Genclerbirligi Ankara',\n",
       " 'Kayseri Erciyesspor',\n",
       " 'Diyarbakirspor',\n",
       " 'Sivasspor',\n",
       " 'Trabzonspor',\n",
       " 'Denizlispor',\n",
       " 'Galatasaray A.S.',\n",
       " 'Samsunspor',\n",
       " 'Manisaspor']"
      ]
     },
     "execution_count": 7,
     "metadata": {},
     "output_type": "execute_result"
    }
   ],
   "source": [
    "home_team_list = []\n",
    "for index in range(9):\n",
    "    home_game = home_games[index].find_all(\"a\", attrs={'class': \"vereinprofil_tooltip\"})\n",
    "    for tag in home_game:\n",
    "        home_team_list.append(tag.text.strip())\n",
    "home_team_list"
   ]
  },
  {
   "cell_type": "code",
   "execution_count": 8,
   "id": "096d4739",
   "metadata": {},
   "outputs": [
    {
     "data": {
      "text/plain": [
       "['Fenerbahce SK',\n",
       " 'Besiktas JK',\n",
       " 'Caykur Rizespor',\n",
       " 'Malatyaspor',\n",
       " 'Kayserispor',\n",
       " 'Ankaraspor',\n",
       " 'Konyaspor',\n",
       " 'Gaziantepspor',\n",
       " 'MKE Ankaragücü']"
      ]
     },
     "execution_count": 8,
     "metadata": {},
     "output_type": "execute_result"
    }
   ],
   "source": [
    "away_games = all[0].find_all(\"td\", {\"class\": \"no-border-links no-border-rechts hauptlink hide-for-small\"})\n",
    "# away_games\n",
    "\n",
    "away_team_list = []\n",
    "for index in range(9):\n",
    "    away_game = away_games[index].find_all(\"a\", attrs={\"vereinprofil_tooltip\"})\n",
    "    for tag in away_game:\n",
    "        away_team_list.append(tag.text.strip())\n",
    "away_team_list"
   ]
  },
  {
   "cell_type": "code",
   "execution_count": 9,
   "id": "5bb2afd1",
   "metadata": {},
   "outputs": [
    {
     "data": {
      "text/plain": [
       "['Genclerbirligi Ankara vs. Fenerbahce SK',\n",
       " 'Kayseri Erciyesspor vs. Besiktas JK',\n",
       " 'Diyarbakirspor vs. Caykur Rizespor',\n",
       " 'Sivasspor vs. Malatyaspor',\n",
       " 'Trabzonspor vs. Kayserispor',\n",
       " 'Denizlispor vs. Ankaraspor',\n",
       " 'Galatasaray A.S. vs. Konyaspor',\n",
       " 'Samsunspor vs. Gaziantepspor',\n",
       " 'Manisaspor vs. MKE Ankaragücü']"
      ]
     },
     "execution_count": 9,
     "metadata": {},
     "output_type": "execute_result"
    }
   ],
   "source": [
    "fixture_list = []\n",
    "for home, away in zip(home_team_list, away_team_list):\n",
    "    fixture_list.append(home + \" vs. \" + away)\n",
    "    \n",
    "fixture_list"
   ]
  },
  {
   "cell_type": "code",
   "execution_count": 10,
   "id": "f97a641f",
   "metadata": {},
   "outputs": [
    {
     "data": {
      "text/plain": [
       "[<span class=\"tabellenplatz\">(6.)</span>,\n",
       " <span class=\"tabellenplatz\">(6.)</span>,\n",
       " <span class=\"tabellenplatz\">(2.)</span>,\n",
       " <span class=\"tabellenplatz\">(2.)</span>,\n",
       " <span class=\"tabellenplatz\">(11.)</span>,\n",
       " <span class=\"tabellenplatz\">(11.)</span>,\n",
       " <span class=\"tabellenplatz\">(3.)</span>,\n",
       " <span class=\"tabellenplatz\">(3.)</span>,\n",
       " <span class=\"tabellenplatz\">(18.)</span>,\n",
       " <span class=\"tabellenplatz\">(18.)</span>,\n",
       " <span class=\"tabellenplatz\">(9.)</span>,\n",
       " <span class=\"tabellenplatz\">(9.)</span>,\n",
       " <span class=\"tabellenplatz\">(8.)</span>,\n",
       " <span class=\"tabellenplatz\">(8.)</span>,\n",
       " <span class=\"tabellenplatz\">(16.)</span>,\n",
       " <span class=\"tabellenplatz\">(16.)</span>,\n",
       " <span class=\"tabellenplatz\">(4.)</span>,\n",
       " <span class=\"tabellenplatz\">(4.)</span>,\n",
       " <span class=\"tabellenplatz\">(5.)</span>,\n",
       " <span class=\"tabellenplatz\">(5.)</span>,\n",
       " <span class=\"tabellenplatz\">(15.)</span>,\n",
       " <span class=\"tabellenplatz\">(15.)</span>,\n",
       " <span class=\"tabellenplatz\">(14.)</span>,\n",
       " <span class=\"tabellenplatz\">(14.)</span>,\n",
       " <span class=\"tabellenplatz\">(1.)</span>,\n",
       " <span class=\"tabellenplatz\">(1.)</span>,\n",
       " <span class=\"tabellenplatz\">(7.)</span>,\n",
       " <span class=\"tabellenplatz\">(7.)</span>,\n",
       " <span class=\"tabellenplatz\">(17.)</span>,\n",
       " <span class=\"tabellenplatz\">(17.)</span>,\n",
       " <span class=\"tabellenplatz\">(12.)</span>,\n",
       " <span class=\"tabellenplatz\">(12.)</span>,\n",
       " <span class=\"tabellenplatz\">(10.)</span>,\n",
       " <span class=\"tabellenplatz\">(10.)</span>,\n",
       " <span class=\"tabellenplatz\">(13.)</span>,\n",
       " <span class=\"tabellenplatz\">(13.)</span>]"
      ]
     },
     "execution_count": 10,
     "metadata": {},
     "output_type": "execute_result"
    }
   ],
   "source": [
    "league_positions = all[0].find_all(\"span\", {\"class\": \"tabellenplatz\"})\n",
    "league_positions"
   ]
  },
  {
   "cell_type": "code",
   "execution_count": 11,
   "id": "0e0abef4",
   "metadata": {},
   "outputs": [
    {
     "data": {
      "text/plain": [
       "[6, 2, 11, 3, 18, 9, 8, 16, 4, 5, 15, 14, 1, 7, 17, 12, 10, 13]"
      ]
     },
     "execution_count": 11,
     "metadata": {},
     "output_type": "execute_result"
    }
   ],
   "source": [
    "position_list = []\n",
    "\n",
    "# Gather league positions from the site\n",
    "for index in range(36):\n",
    "    pos = league_positions[index]\n",
    "    pos_num = int(''.join(x for x in pos.text.strip() if x.isdigit()))\n",
    "    position_list.append(pos_num)\n",
    "    \n",
    "# Clean the position list\n",
    "league_position_list = []\n",
    "[league_position_list.append(x) for x in position_list if x not in league_position_list]\n",
    "\n",
    "league_position_list"
   ]
  },
  {
   "cell_type": "code",
   "execution_count": 12,
   "id": "53662be5",
   "metadata": {},
   "outputs": [
    {
     "data": {
      "text/plain": [
       "[2, 3, 9, 16, 5, 14, 7, 12, 13]"
      ]
     },
     "execution_count": 12,
     "metadata": {},
     "output_type": "execute_result"
    }
   ],
   "source": [
    "# Divide the home team positions and the away team positions\n",
    "home_positions = league_position_list[::2]\n",
    "away_positions = league_position_list[1::2]\n",
    "\n",
    "# home_positions\n",
    "away_positions"
   ]
  },
  {
   "cell_type": "code",
   "execution_count": 14,
   "id": "f8e0c852",
   "metadata": {},
   "outputs": [
    {
     "data": {
      "text/plain": [
       "[<span class=\"matchresult finished\">0:0</span>,\n",
       " <span class=\"matchresult finished\">1:1</span>,\n",
       " <span class=\"matchresult finished\">1:0</span>,\n",
       " <span class=\"matchresult finished\">1:1</span>,\n",
       " <span class=\"matchresult finished\">2:1</span>,\n",
       " <span class=\"matchresult finished\">1:1</span>,\n",
       " <span class=\"matchresult finished\">2:1</span>,\n",
       " <span class=\"matchresult finished\">2:3</span>,\n",
       " <span class=\"matchresult finished\">2:2</span>]"
      ]
     },
     "execution_count": 14,
     "metadata": {},
     "output_type": "execute_result"
    }
   ],
   "source": [
    "match_results = all[0].find_all(\"span\", {\"class\": \"matchresult finished\"})\n",
    "match_results"
   ]
  },
  {
   "cell_type": "code",
   "execution_count": 18,
   "id": "4ac2880f",
   "metadata": {},
   "outputs": [
    {
     "data": {
      "text/plain": [
       "[0, 0, 1, 0, 1, 0, 1, 2, 0]"
      ]
     },
     "execution_count": 18,
     "metadata": {},
     "output_type": "execute_result"
    }
   ],
   "source": [
    "result_list = []\n",
    "\n",
    "# Gather the match scores from the site\n",
    "for index, _ in enumerate(match_results):\n",
    "    result = match_results[index]\n",
    "    result_text = result.text.strip()\n",
    "    home_result, away_result = result_text.split(':')\n",
    "    home_result = int(home_result)\n",
    "    away_result = int(away_result)\n",
    "    \n",
    "    # If home result is equal to the away result we categorize the game as a draw or 0\n",
    "    # If home result is greater than the away result we categorize the game as a win ir 1\n",
    "    # If home result is less than the away result we categorize the game as a loss ir 2\n",
    "    if home_result == away_result:\n",
    "        result_list.append(0)\n",
    "    elif home_result > away_result:\n",
    "        result_list.append(1)\n",
    "    else:\n",
    "        result_list.append(2)\n",
    "\n",
    "result_list"
   ]
  },
  {
   "cell_type": "code",
   "execution_count": null,
   "id": "5e12f95a",
   "metadata": {},
   "outputs": [],
   "source": []
  }
 ],
 "metadata": {
  "kernelspec": {
   "display_name": "Python 3",
   "language": "python",
   "name": "python3"
  },
  "language_info": {
   "codemirror_mode": {
    "name": "ipython",
    "version": 3
   },
   "file_extension": ".py",
   "mimetype": "text/x-python",
   "name": "python",
   "nbconvert_exporter": "python",
   "pygments_lexer": "ipython3",
   "version": "3.9.5"
  }
 },
 "nbformat": 4,
 "nbformat_minor": 5
}
