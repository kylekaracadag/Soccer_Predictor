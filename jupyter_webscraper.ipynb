{
 "cells": [
  {
   "cell_type": "code",
   "execution_count": 15,
   "id": "8608d5cb",
   "metadata": {},
   "outputs": [],
   "source": [
    "import requests\n",
    "from bs4 import BeautifulSoup\n",
    "import pandas"
   ]
  },
  {
   "cell_type": "code",
   "execution_count": 16,
   "id": "b253e2fe",
   "metadata": {},
   "outputs": [],
   "source": [
    "# fixture_list = []\n",
    "# fixture_url = 'https://www.transfermarkt.com/super-lig/spieltagtabelle/wettbewerb/TR1?saison_id='\n",
    "\n",
    "# for season in range(2005, 2006):\n",
    "#     for matchday in range(1, 2):\n",
    "#         season_requests = requests.get(fixture_url + str(season) + '&spieltag=' + str(matchday), \n",
    "#             headers={'User-agent': 'Mozilla/5.0 (X11; Ubuntu; Linux x86_64; rv:61.0) Gecko/20100101 Firefox/61.0'})\n",
    "\n",
    "#         content = season_requests.content\n",
    "#         soup = BeautifulSoup(content, 'html.parser')\n",
    "#         print(soup.prettify())"
   ]
  },
  {
   "cell_type": "code",
   "execution_count": 17,
   "id": "93d3c4fe",
   "metadata": {},
   "outputs": [],
   "source": [
    "tmp_url = \"https://www.transfermarkt.com/super-lig/spieltagtabelle/wettbewerb/TR1?saison_id=2005&spieltag=1\"\n",
    "r = requests.get(tmp_url, headers={'User-agent': 'Mozilla/5.0 (X11; Ubuntu; Linux x86_64; rv:61.0) Gecko/20100101 Firefox/61.0'})\n",
    "c = r.content\n",
    "soup = BeautifulSoup(c, \"html.parser\")\n",
    "# print(soup.prettify())"
   ]
  },
  {
   "cell_type": "code",
   "execution_count": 47,
   "id": "edb5d899",
   "metadata": {},
   "outputs": [],
   "source": [
    "all = soup.find_all(\"div\", {\"class\": \"responsive-table\"})\n",
    "# all"
   ]
  },
  {
   "cell_type": "code",
   "execution_count": 19,
   "id": "6722564d",
   "metadata": {},
   "outputs": [],
   "source": [
    "home_games = all[0].find_all(\"td\", {\"class\": \"text-right no-border-rechts no-border-links hauptlink hide-for-small\"})\n",
    "# home_games"
   ]
  },
  {
   "cell_type": "code",
   "execution_count": 20,
   "id": "a24fafc1",
   "metadata": {},
   "outputs": [
    {
     "data": {
      "text/plain": [
       "['Genclerbirligi Ankara',\n",
       " 'Kayseri Erciyesspor',\n",
       " 'Diyarbakirspor',\n",
       " 'Sivasspor',\n",
       " 'Trabzonspor',\n",
       " 'Denizlispor',\n",
       " 'Galatasaray A.S.',\n",
       " 'Samsunspor',\n",
       " 'Manisaspor']"
      ]
     },
     "execution_count": 20,
     "metadata": {},
     "output_type": "execute_result"
    }
   ],
   "source": [
    "home_team_list = []\n",
    "for index in range(9):\n",
    "    home_game = home_games[index].find_all(\"a\", attrs={'class': \"vereinprofil_tooltip\"})\n",
    "    for tag in home_game:\n",
    "        home_team_list.append(tag.text.strip())\n",
    "home_team_list"
   ]
  },
  {
   "cell_type": "code",
   "execution_count": 21,
   "id": "096d4739",
   "metadata": {},
   "outputs": [
    {
     "data": {
      "text/plain": [
       "['Fenerbahce SK',\n",
       " 'Besiktas JK',\n",
       " 'Caykur Rizespor',\n",
       " 'Malatyaspor',\n",
       " 'Kayserispor',\n",
       " 'Ankaraspor',\n",
       " 'Konyaspor',\n",
       " 'Gaziantepspor',\n",
       " 'MKE Ankaragücü']"
      ]
     },
     "execution_count": 21,
     "metadata": {},
     "output_type": "execute_result"
    }
   ],
   "source": [
    "away_games = all[0].find_all(\"td\", {\"class\": \"no-border-links no-border-rechts hauptlink hide-for-small\"})\n",
    "# away_games\n",
    "\n",
    "away_team_list = []\n",
    "for index in range(9):\n",
    "    away_game = away_games[index].find_all(\"a\", attrs={\"vereinprofil_tooltip\"})\n",
    "    for tag in away_game:\n",
    "        away_team_list.append(tag.text.strip())\n",
    "away_team_list"
   ]
  },
  {
   "cell_type": "code",
   "execution_count": 22,
   "id": "5bb2afd1",
   "metadata": {},
   "outputs": [
    {
     "data": {
      "text/plain": [
       "['Genclerbirligi Ankara vs. Fenerbahce SK',\n",
       " 'Kayseri Erciyesspor vs. Besiktas JK',\n",
       " 'Diyarbakirspor vs. Caykur Rizespor',\n",
       " 'Sivasspor vs. Malatyaspor',\n",
       " 'Trabzonspor vs. Kayserispor',\n",
       " 'Denizlispor vs. Ankaraspor',\n",
       " 'Galatasaray A.S. vs. Konyaspor',\n",
       " 'Samsunspor vs. Gaziantepspor',\n",
       " 'Manisaspor vs. MKE Ankaragücü']"
      ]
     },
     "execution_count": 22,
     "metadata": {},
     "output_type": "execute_result"
    }
   ],
   "source": [
    "fixture_list = []\n",
    "for home, away in zip(home_team_list, away_team_list):\n",
    "    fixture_list.append(home + \" vs. \" + away)\n",
    "    \n",
    "fixture_list"
   ]
  },
  {
   "cell_type": "code",
   "execution_count": 23,
   "id": "f97a641f",
   "metadata": {},
   "outputs": [
    {
     "data": {
      "text/plain": [
       "[<span class=\"tabellenplatz\">(6.)</span>,\n",
       " <span class=\"tabellenplatz\">(6.)</span>,\n",
       " <span class=\"tabellenplatz\">(2.)</span>,\n",
       " <span class=\"tabellenplatz\">(2.)</span>,\n",
       " <span class=\"tabellenplatz\">(11.)</span>,\n",
       " <span class=\"tabellenplatz\">(11.)</span>,\n",
       " <span class=\"tabellenplatz\">(3.)</span>,\n",
       " <span class=\"tabellenplatz\">(3.)</span>,\n",
       " <span class=\"tabellenplatz\">(18.)</span>,\n",
       " <span class=\"tabellenplatz\">(18.)</span>,\n",
       " <span class=\"tabellenplatz\">(9.)</span>,\n",
       " <span class=\"tabellenplatz\">(9.)</span>,\n",
       " <span class=\"tabellenplatz\">(8.)</span>,\n",
       " <span class=\"tabellenplatz\">(8.)</span>,\n",
       " <span class=\"tabellenplatz\">(16.)</span>,\n",
       " <span class=\"tabellenplatz\">(16.)</span>,\n",
       " <span class=\"tabellenplatz\">(4.)</span>,\n",
       " <span class=\"tabellenplatz\">(4.)</span>,\n",
       " <span class=\"tabellenplatz\">(5.)</span>,\n",
       " <span class=\"tabellenplatz\">(5.)</span>,\n",
       " <span class=\"tabellenplatz\">(15.)</span>,\n",
       " <span class=\"tabellenplatz\">(15.)</span>,\n",
       " <span class=\"tabellenplatz\">(14.)</span>,\n",
       " <span class=\"tabellenplatz\">(14.)</span>,\n",
       " <span class=\"tabellenplatz\">(1.)</span>,\n",
       " <span class=\"tabellenplatz\">(1.)</span>,\n",
       " <span class=\"tabellenplatz\">(7.)</span>,\n",
       " <span class=\"tabellenplatz\">(7.)</span>,\n",
       " <span class=\"tabellenplatz\">(17.)</span>,\n",
       " <span class=\"tabellenplatz\">(17.)</span>,\n",
       " <span class=\"tabellenplatz\">(12.)</span>,\n",
       " <span class=\"tabellenplatz\">(12.)</span>,\n",
       " <span class=\"tabellenplatz\">(10.)</span>,\n",
       " <span class=\"tabellenplatz\">(10.)</span>,\n",
       " <span class=\"tabellenplatz\">(13.)</span>,\n",
       " <span class=\"tabellenplatz\">(13.)</span>]"
      ]
     },
     "execution_count": 23,
     "metadata": {},
     "output_type": "execute_result"
    }
   ],
   "source": [
    "league_positions = all[0].find_all(\"span\", {\"class\": \"tabellenplatz\"})\n",
    "league_positions"
   ]
  },
  {
   "cell_type": "code",
   "execution_count": 24,
   "id": "0e0abef4",
   "metadata": {},
   "outputs": [
    {
     "data": {
      "text/plain": [
       "[6, 2, 11, 3, 18, 9, 8, 16, 4, 5, 15, 14, 1, 7, 17, 12, 10, 13]"
      ]
     },
     "execution_count": 24,
     "metadata": {},
     "output_type": "execute_result"
    }
   ],
   "source": [
    "position_list = []\n",
    "\n",
    "# Gather league positions from the site\n",
    "for index in range(36):\n",
    "    pos = league_positions[index]\n",
    "    pos_num = int(''.join(x for x in pos.text.strip() if x.isdigit()))\n",
    "    position_list.append(pos_num)\n",
    "    \n",
    "# Clean the position list\n",
    "league_position_list = []\n",
    "[league_position_list.append(x) for x in position_list if x not in league_position_list]\n",
    "\n",
    "league_position_list"
   ]
  },
  {
   "cell_type": "code",
   "execution_count": 25,
   "id": "53662be5",
   "metadata": {},
   "outputs": [
    {
     "data": {
      "text/plain": [
       "[2, 3, 9, 16, 5, 14, 7, 12, 13]"
      ]
     },
     "execution_count": 25,
     "metadata": {},
     "output_type": "execute_result"
    }
   ],
   "source": [
    "# Divide the home team positions and the away team positions\n",
    "home_positions = league_position_list[::2]\n",
    "away_positions = league_position_list[1::2]\n",
    "\n",
    "# home_positions\n",
    "away_positions"
   ]
  },
  {
   "cell_type": "code",
   "execution_count": 26,
   "id": "f8e0c852",
   "metadata": {},
   "outputs": [
    {
     "data": {
      "text/plain": [
       "[<span class=\"matchresult finished\">0:0</span>,\n",
       " <span class=\"matchresult finished\">1:1</span>,\n",
       " <span class=\"matchresult finished\">1:0</span>,\n",
       " <span class=\"matchresult finished\">1:1</span>,\n",
       " <span class=\"matchresult finished\">2:1</span>,\n",
       " <span class=\"matchresult finished\">1:1</span>,\n",
       " <span class=\"matchresult finished\">2:1</span>,\n",
       " <span class=\"matchresult finished\">2:3</span>,\n",
       " <span class=\"matchresult finished\">2:2</span>]"
      ]
     },
     "execution_count": 26,
     "metadata": {},
     "output_type": "execute_result"
    }
   ],
   "source": [
    "match_results = all[0].find_all(\"span\", {\"class\": \"matchresult finished\"})\n",
    "match_results"
   ]
  },
  {
   "cell_type": "code",
   "execution_count": 27,
   "id": "4ac2880f",
   "metadata": {},
   "outputs": [
    {
     "data": {
      "text/plain": [
       "[0, 0, 1, 0, 1, 0, 1, 2, 0]"
      ]
     },
     "execution_count": 27,
     "metadata": {},
     "output_type": "execute_result"
    }
   ],
   "source": [
    "result_list = []\n",
    "\n",
    "# Gather the match scores from the site\n",
    "for index, _ in enumerate(match_results):\n",
    "    result = match_results[index]\n",
    "    result_text = result.text.strip()\n",
    "    home_result, away_result = result_text.split(':')\n",
    "    home_result = int(home_result)\n",
    "    away_result = int(away_result)\n",
    "    \n",
    "    # If home result is equal to the away result we categorize the game as a draw or 0\n",
    "    # If home result is greater than the away result we categorize the game as a win ir 1\n",
    "    # If home result is less than the away result we categorize the game as a loss ir 2\n",
    "    if home_result == away_result:\n",
    "        result_list.append(0)\n",
    "    elif home_result > away_result:\n",
    "        result_list.append(1)\n",
    "    else:\n",
    "        result_list.append(2)\n",
    "\n",
    "result_list"
   ]
  },
  {
   "cell_type": "markdown",
   "id": "a9d916d3",
   "metadata": {},
   "source": [
    "## Get Data From the League Table"
   ]
  },
  {
   "cell_type": "code",
   "execution_count": 33,
   "id": "9092c07f",
   "metadata": {},
   "outputs": [],
   "source": [
    "tmp_url = \"https://www.transfermarkt.com/super-lig/spieltagtabelle/wettbewerb/TR1?saison_id=2005&spieltag=1\"\n",
    "r = requests.get(tmp_url, headers={'User-agent': 'Mozilla/5.0 (X11; Ubuntu; Linux x86_64; rv:61.0) Gecko/20100101 Firefox/61.0'})\n",
    "c = r.content\n",
    "soup = BeautifulSoup(c, \"html.parser\")"
   ]
  },
  {
   "cell_type": "code",
   "execution_count": 58,
   "id": "7ac4880e",
   "metadata": {},
   "outputs": [
    {
     "data": {
      "text/plain": [
       "<table>\n",
       "<thead>\n",
       "<tr>\n",
       "<th class=\"rechts\">#</th>\n",
       "<th colspan=\"2\">club</th>\n",
       "<th class=\"zentriert\"><span class=\"icons_sprite icon-einsaetze-table-header\" title=\"Matches\"> </span></th>\n",
       "<th class=\"zentriert\">W</th>\n",
       "<th class=\"zentriert\">D</th>\n",
       "<th class=\"zentriert\">L</th>\n",
       "<th class=\"zentriert\">Goals</th>\n",
       "<th class=\"zentriert\">+/-</th>\n",
       "<th class=\"zentriert\">Pts</th>\n",
       "</tr>\n",
       "</thead>\n",
       "<tbody>\n",
       "<tr>\n",
       "<td class=\"rechts hauptlink\" style=\"background-color:#afd179\">1<span class=\"icons_sprite green-arrow-ten\" title=\"previous week 13.place\"> </span></td>\n",
       "<td class=\"zentriert no-border-rechts\"><a class=\"vereinprofil_tooltip\" href=\"/gaziantepspor/spielplan/verein/524/saison_id/2005\" id=\"524\"><img alt=\"Gaziantepspor\" class=\"tiny_wappen\" src=\"https://tmssl.akamaized.net/images/wappen/tiny/524.png?lm=1408654192\" title=\" \"/></a></td>\n",
       "<td class=\"no-border-links hauptlink\">\n",
       "<a class=\"vereinprofil_tooltip\" href=\"/gaziantepspor/spielplan/verein/524/saison_id/2005\" id=\"524\">Gaziantepspor</a><br class=\"show-for-small\"/>\n",
       "</td>\n",
       "<td class=\"zentriert\">1</td>\n",
       "<td class=\"zentriert\">1</td>\n",
       "<td class=\"zentriert\">0</td>\n",
       "<td class=\"zentriert\">0</td>\n",
       "<td class=\"zentriert\">3:2</td>\n",
       "<td class=\"zentriert\">1</td>\n",
       "<td class=\"zentriert\">3</td>\n",
       "</tr>\n",
       "<tr>\n",
       "<td class=\"rechts hauptlink\" style=\"background-color:#d6eab6\">2<span class=\"icons_sprite green-arrow-ten\" title=\"previous week 3.place\"> </span></td>\n",
       "<td class=\"zentriert no-border-rechts\"><a class=\"vereinprofil_tooltip\" href=\"/trabzonspor/spielplan/verein/449/saison_id/2005\" id=\"449\"><img alt=\"Trabzonspor\" class=\"tiny_wappen\" src=\"https://tmssl.akamaized.net/images/wappen/tiny/449.png?lm=1565126058\" title=\" \"/></a></td>\n",
       "<td class=\"no-border-links hauptlink\">\n",
       "<a class=\"vereinprofil_tooltip\" href=\"/trabzonspor/spielplan/verein/449/saison_id/2005\" id=\"449\">Trabzonspor</a><br class=\"show-for-small\"/>\n",
       "</td>\n",
       "<td class=\"zentriert\">1</td>\n",
       "<td class=\"zentriert\">1</td>\n",
       "<td class=\"zentriert\">0</td>\n",
       "<td class=\"zentriert\">0</td>\n",
       "<td class=\"zentriert\">2:1</td>\n",
       "<td class=\"zentriert\">1</td>\n",
       "<td class=\"zentriert\">3</td>\n",
       "</tr>\n",
       "<tr>\n",
       "<td class=\"rechts hauptlink\" style=\"background-color:#a5cce9\">3<span class=\"icons_sprite red-arrow-ten\" title=\"previous week 2.place\"> </span></td>\n",
       "<td class=\"zentriert no-border-rechts\"><a class=\"vereinprofil_tooltip\" href=\"/galatasaray-istanbul/spielplan/verein/141/saison_id/2005\" id=\"141\"><img alt=\"Galatasaray A.S.\" class=\"tiny_wappen\" src=\"https://tmssl.akamaized.net/images/wappen/tiny/141.png?lm=1406739071\" title=\" \"/></a></td>\n",
       "<td class=\"no-border-links hauptlink\">\n",
       "<a class=\"vereinprofil_tooltip\" href=\"/galatasaray-istanbul/spielplan/verein/141/saison_id/2005\" id=\"141\">Galatasaray</a><br class=\"show-for-small\"/>\n",
       "<a href=\"#\"><img alt=\"Turkish cup winner 04/05\" class=\"tabelle-erfolg\" src=\"https://tmssl.akamaized.net/images/erfolge/mini/148.png?lm=1520606997\" title=\"Turkish cup winner 04/05\"/></a> </td>\n",
       "<td class=\"zentriert\">1</td>\n",
       "<td class=\"zentriert\">1</td>\n",
       "<td class=\"zentriert\">0</td>\n",
       "<td class=\"zentriert\">0</td>\n",
       "<td class=\"zentriert\">2:1</td>\n",
       "<td class=\"zentriert\">1</td>\n",
       "<td class=\"zentriert\">3</td>\n",
       "</tr>\n",
       "<tr>\n",
       "<td class=\"rechts hauptlink\" style=\"background-color:#a5cce9\">4<span class=\"icons_sprite green-arrow-ten\" title=\"previous week 18.place\"> </span></td>\n",
       "<td class=\"zentriert no-border-rechts\"><a class=\"vereinprofil_tooltip\" href=\"/diyarbakirspor/spielplan/verein/845/saison_id/2005\" id=\"845\"><img alt=\"Diyarbakirspor\" class=\"tiny_wappen\" src=\"https://tmssl.akamaized.net/images/wappen/tiny/845.png?lm=1441811244\" title=\" \"/></a></td>\n",
       "<td class=\"no-border-links hauptlink\">\n",
       "<a class=\"vereinprofil_tooltip\" href=\"/diyarbakirspor/spielplan/verein/845/saison_id/2005\" id=\"845\">Diyarbakirspor</a><br class=\"show-for-small\"/>\n",
       "</td>\n",
       "<td class=\"zentriert\">1</td>\n",
       "<td class=\"zentriert\">1</td>\n",
       "<td class=\"zentriert\">0</td>\n",
       "<td class=\"zentriert\">0</td>\n",
       "<td class=\"zentriert\">1:0</td>\n",
       "<td class=\"zentriert\">1</td>\n",
       "<td class=\"zentriert\">3</td>\n",
       "</tr>\n",
       "<tr>\n",
       "<td class=\"rechts hauptlink\" style=\"background-color:#cde9ff\">5<span class=\"icons_sprite green-arrow-ten\" title=\"previous week 10.place\"> </span></td>\n",
       "<td class=\"zentriert no-border-rechts\"><a class=\"vereinprofil_tooltip\" href=\"/mke-ankaragucu/spielplan/verein/868/saison_id/2005\" id=\"868\"><img alt=\"MKE Ankaragücü\" class=\"tiny_wappen\" src=\"https://tmssl.akamaized.net/images/wappen/tiny/868.png?lm=1582635029\" title=\" \"/></a></td>\n",
       "<td class=\"no-border-links hauptlink\">\n",
       "<a class=\"vereinprofil_tooltip\" href=\"/mke-ankaragucu/spielplan/verein/868/saison_id/2005\" id=\"868\">Ankaragücü</a><br class=\"show-for-small\"/>\n",
       "</td>\n",
       "<td class=\"zentriert\">1</td>\n",
       "<td class=\"zentriert\">0</td>\n",
       "<td class=\"zentriert\">1</td>\n",
       "<td class=\"zentriert\">0</td>\n",
       "<td class=\"zentriert\">2:2</td>\n",
       "<td class=\"zentriert\">0</td>\n",
       "<td class=\"zentriert\">1</td>\n",
       "</tr>\n",
       "<tr>\n",
       "<td class=\"rechts hauptlink\" style=\"background-color:\">6<span class=\"icons_sprite green-arrow-ten\" title=\"previous week 11.place\"> </span></td>\n",
       "<td class=\"zentriert no-border-rechts\"><a class=\"vereinprofil_tooltip\" href=\"/manisaspor/spielplan/verein/1267/saison_id/2005\" id=\"1267\"><img alt=\"Manisaspor\" class=\"tiny_wappen\" src=\"https://tmssl.akamaized.net/images/wappen/tiny/1267.png?lm=1415444581\" title=\" \"/></a></td>\n",
       "<td class=\"no-border-links hauptlink\">\n",
       "<a class=\"vereinprofil_tooltip\" href=\"/manisaspor/spielplan/verein/1267/saison_id/2005\" id=\"1267\">Manisaspor</a><br class=\"show-for-small\"/>\n",
       "<span class=\"icons_sprite icon-aufsteiger\" title=\"Promoted to 1st league 04/05\"> </span> </td>\n",
       "<td class=\"zentriert\">1</td>\n",
       "<td class=\"zentriert\">0</td>\n",
       "<td class=\"zentriert\">1</td>\n",
       "<td class=\"zentriert\">0</td>\n",
       "<td class=\"zentriert\">2:2</td>\n",
       "<td class=\"zentriert\">0</td>\n",
       "<td class=\"zentriert\">1</td>\n",
       "</tr>\n",
       "<tr>\n",
       "<td class=\"rechts hauptlink\" style=\"background-color:\">7<span class=\"icons_sprite red-arrow-ten\" title=\"previous week 5.place\"> </span></td>\n",
       "<td class=\"zentriert no-border-rechts\"><a class=\"vereinprofil_tooltip\" href=\"/besiktas-istanbul/spielplan/verein/114/saison_id/2005\" id=\"114\"><img alt=\"Besiktas JK\" class=\"tiny_wappen\" src=\"https://tmssl.akamaized.net/images/wappen/tiny/114.png?lm=1502974502\" title=\" \"/></a></td>\n",
       "<td class=\"no-border-links hauptlink\">\n",
       "<a class=\"vereinprofil_tooltip\" href=\"/besiktas-istanbul/spielplan/verein/114/saison_id/2005\" id=\"114\">Besiktas</a><br class=\"show-for-small\"/>\n",
       "</td>\n",
       "<td class=\"zentriert\">1</td>\n",
       "<td class=\"zentriert\">0</td>\n",
       "<td class=\"zentriert\">1</td>\n",
       "<td class=\"zentriert\">0</td>\n",
       "<td class=\"zentriert\">1:1</td>\n",
       "<td class=\"zentriert\">0</td>\n",
       "<td class=\"zentriert\">1</td>\n",
       "</tr>\n",
       "<tr>\n",
       "<td class=\"rechts hauptlink\" style=\"background-color:\">8<span class=\"icons_sprite green-arrow-ten\" title=\"previous week 15.place\"> </span></td>\n",
       "<td class=\"zentriert no-border-rechts\"><a class=\"vereinprofil_tooltip\" href=\"/denizlispor/spielplan/verein/833/saison_id/2005\" id=\"833\"><img alt=\"Denizlispor\" class=\"tiny_wappen\" src=\"https://tmssl.akamaized.net/images/wappen/tiny/833.png?lm=1415444729\" title=\" \"/></a></td>\n",
       "<td class=\"no-border-links hauptlink\">\n",
       "<a class=\"vereinprofil_tooltip\" href=\"/denizlispor/spielplan/verein/833/saison_id/2005\" id=\"833\">Denizlispor</a><br class=\"show-for-small\"/>\n",
       "</td>\n",
       "<td class=\"zentriert\">1</td>\n",
       "<td class=\"zentriert\">0</td>\n",
       "<td class=\"zentriert\">1</td>\n",
       "<td class=\"zentriert\">0</td>\n",
       "<td class=\"zentriert\">1:1</td>\n",
       "<td class=\"zentriert\">0</td>\n",
       "<td class=\"zentriert\">1</td>\n",
       "</tr>\n",
       "<tr>\n",
       "<td class=\"rechts hauptlink\" style=\"background-color:\">9<span class=\"icons_sprite green-arrow-ten\" title=\"previous week 14.place\"> </span></td>\n",
       "<td class=\"zentriert no-border-rechts\"><a class=\"vereinprofil_tooltip\" href=\"/ankaraspor/spielplan/verein/2944/saison_id/2005\" id=\"2944\"><img alt=\"Ankaraspor\" class=\"\" src=\"https://tmssl.akamaized.net/images/wappen/tiny/2944_1444100514.png?lm=1444100514\" title=\" \"/></a></td>\n",
       "<td class=\"no-border-links hauptlink\">\n",
       "<a class=\"vereinprofil_tooltip\" href=\"/ankaraspor/spielplan/verein/2944/saison_id/2005\" id=\"2944\">Ankaraspor</a><br class=\"show-for-small\"/>\n",
       "</td>\n",
       "<td class=\"zentriert\">1</td>\n",
       "<td class=\"zentriert\">0</td>\n",
       "<td class=\"zentriert\">1</td>\n",
       "<td class=\"zentriert\">0</td>\n",
       "<td class=\"zentriert\">1:1</td>\n",
       "<td class=\"zentriert\">0</td>\n",
       "<td class=\"zentriert\">1</td>\n",
       "</tr>\n",
       "<tr>\n",
       "<td class=\"rechts hauptlink\" style=\"background-color:\">10<span class=\"icons_sprite green-arrow-ten\" title=\"previous week 16.place\"> </span></td>\n",
       "<td class=\"zentriert no-border-rechts\"><a class=\"vereinprofil_tooltip\" href=\"/malatyaspor/spielplan/verein/1264/saison_id/2005\" id=\"1264\"><img alt=\"Malatyaspor\" class=\"tiny_wappen\" src=\"https://tmssl.akamaized.net/images/wappen/tiny/1264.png?lm=1441755509\" title=\" \"/></a></td>\n",
       "<td class=\"no-border-links hauptlink\">\n",
       "<a class=\"vereinprofil_tooltip\" href=\"/malatyaspor/spielplan/verein/1264/saison_id/2005\" id=\"1264\">Malatyaspor</a><br class=\"show-for-small\"/>\n",
       "</td>\n",
       "<td class=\"zentriert\">1</td>\n",
       "<td class=\"zentriert\">0</td>\n",
       "<td class=\"zentriert\">1</td>\n",
       "<td class=\"zentriert\">0</td>\n",
       "<td class=\"zentriert\">1:1</td>\n",
       "<td class=\"zentriert\">0</td>\n",
       "<td class=\"zentriert\">1</td>\n",
       "</tr>\n",
       "<tr>\n",
       "<td class=\"rechts hauptlink\" style=\"background-color:\">11<span class=\"icons_sprite red-arrow-ten\" title=\"previous week 9.place\"> </span></td>\n",
       "<td class=\"zentriert no-border-rechts\"><a class=\"vereinprofil_tooltip\" href=\"/sivasspor/spielplan/verein/2381/saison_id/2005\" id=\"2381\"><img alt=\"Sivasspor\" class=\"tiny_wappen\" src=\"https://tmssl.akamaized.net/images/wappen/tiny/2381.png?lm=1408653992\" title=\" \"/></a></td>\n",
       "<td class=\"no-border-links hauptlink\">\n",
       "<a class=\"vereinprofil_tooltip\" href=\"/sivasspor/spielplan/verein/2381/saison_id/2005\" id=\"2381\">Sivasspor</a><br class=\"show-for-small\"/>\n",
       "<span class=\"icons_sprite icon-aufsteiger\" title=\"Promoted to 1st league 04/05\"> </span> </td>\n",
       "<td class=\"zentriert\">1</td>\n",
       "<td class=\"zentriert\">0</td>\n",
       "<td class=\"zentriert\">1</td>\n",
       "<td class=\"zentriert\">0</td>\n",
       "<td class=\"zentriert\">1:1</td>\n",
       "<td class=\"zentriert\">0</td>\n",
       "<td class=\"zentriert\">1</td>\n",
       "</tr>\n",
       "<tr>\n",
       "<td class=\"rechts hauptlink\" style=\"background-color:\">12<span class=\"icons_sprite red-arrow-ten\" title=\"previous week 8.place\"> </span></td>\n",
       "<td class=\"zentriert no-border-rechts\"><a class=\"vereinprofil_tooltip\" href=\"/kayseri-erciyesspor/spielplan/verein/6894/saison_id/2005\" id=\"6894\"><img alt=\"Kayseri Erciyesspor\" class=\"tiny_wappen\" src=\"https://tmssl.akamaized.net/images/wappen/tiny/6894.png?lm=1444097883\" title=\" \"/></a></td>\n",
       "<td class=\"no-border-links hauptlink\">\n",
       "<a class=\"vereinprofil_tooltip\" href=\"/kayseri-erciyesspor/spielplan/verein/6894/saison_id/2005\" id=\"6894\">K. Erciyesspor</a><br class=\"show-for-small\"/>\n",
       "<span class=\"icons_sprite icon-aufsteiger\" title=\"Promoted to 1st league 04/05\"> </span> </td>\n",
       "<td class=\"zentriert\">1</td>\n",
       "<td class=\"zentriert\">0</td>\n",
       "<td class=\"zentriert\">1</td>\n",
       "<td class=\"zentriert\">0</td>\n",
       "<td class=\"zentriert\">1:1</td>\n",
       "<td class=\"zentriert\">0</td>\n",
       "<td class=\"zentriert\">1</td>\n",
       "</tr>\n",
       "<tr>\n",
       "<td class=\"rechts hauptlink\" style=\"background-color:\">13<span class=\"icons_sprite red-arrow-ten\" title=\"previous week 1.place\"> </span></td>\n",
       "<td class=\"zentriert no-border-rechts\"><a class=\"vereinprofil_tooltip\" href=\"/fenerbahce-istanbul/spielplan/verein/36/saison_id/2005\" id=\"36\"><img alt=\"Fenerbahce SK\" class=\"tiny_wappen\" src=\"https://tmssl.akamaized.net/images/wappen/tiny/36.png?lm=1406739123\" title=\" \"/></a></td>\n",
       "<td class=\"no-border-links hauptlink\">\n",
       "<a class=\"vereinprofil_tooltip\" href=\"/fenerbahce-istanbul/spielplan/verein/36/saison_id/2005\" id=\"36\">Fenerbahce</a><br class=\"show-for-small\"/>\n",
       "<a href=\"#\"><img alt=\"Turkish Champion 04/05\" class=\"tabelle-erfolg\" src=\"https://tmssl.akamaized.net/images/erfolge/mini/20.png?lm=1520606999\" title=\"Turkish Champion 04/05\"/></a> </td>\n",
       "<td class=\"zentriert\">1</td>\n",
       "<td class=\"zentriert\">0</td>\n",
       "<td class=\"zentriert\">1</td>\n",
       "<td class=\"zentriert\">0</td>\n",
       "<td class=\"zentriert\">0:0</td>\n",
       "<td class=\"zentriert\">0</td>\n",
       "<td class=\"zentriert\">1</td>\n",
       "</tr>\n",
       "<tr>\n",
       "<td class=\"rechts hauptlink\" style=\"background-color:\">14<span class=\"icons_sprite red-arrow-ten\" title=\"previous week 6.place\"> </span></td>\n",
       "<td class=\"zentriert no-border-rechts\"><a class=\"vereinprofil_tooltip\" href=\"/genclerbirligi-ankara/spielplan/verein/820/saison_id/2005\" id=\"820\"><img alt=\"Genclerbirligi Ankara\" class=\"tiny_wappen\" src=\"https://tmssl.akamaized.net/images/wappen/tiny/820.png?lm=1408653608\" title=\" \"/></a></td>\n",
       "<td class=\"no-border-links hauptlink\">\n",
       "<a class=\"vereinprofil_tooltip\" href=\"/genclerbirligi-ankara/spielplan/verein/820/saison_id/2005\" id=\"820\">Genclerbirligi</a><br class=\"show-for-small\"/>\n",
       "</td>\n",
       "<td class=\"zentriert\">1</td>\n",
       "<td class=\"zentriert\">0</td>\n",
       "<td class=\"zentriert\">1</td>\n",
       "<td class=\"zentriert\">0</td>\n",
       "<td class=\"zentriert\">0:0</td>\n",
       "<td class=\"zentriert\">0</td>\n",
       "<td class=\"zentriert\">1</td>\n",
       "</tr>\n",
       "<tr>\n",
       "<td class=\"rechts hauptlink\" style=\"background-color:\">15<span class=\"icons_sprite green-arrow-ten\" title=\"previous week 17.place\"> </span></td>\n",
       "<td class=\"zentriert no-border-rechts\"><a class=\"vereinprofil_tooltip\" href=\"/samsunspor/spielplan/verein/152/saison_id/2005\" id=\"152\"><img alt=\"Samsunspor\" class=\"tiny_wappen\" src=\"https://tmssl.akamaized.net/images/wappen/tiny/152.png?lm=1601939192\" title=\" \"/></a></td>\n",
       "<td class=\"no-border-links hauptlink\">\n",
       "<a class=\"vereinprofil_tooltip\" href=\"/samsunspor/spielplan/verein/152/saison_id/2005\" id=\"152\">Samsunspor</a><br class=\"show-for-small\"/>\n",
       "</td>\n",
       "<td class=\"zentriert\">1</td>\n",
       "<td class=\"zentriert\">0</td>\n",
       "<td class=\"zentriert\">0</td>\n",
       "<td class=\"zentriert\">1</td>\n",
       "<td class=\"zentriert\">2:3</td>\n",
       "<td class=\"zentriert\">-1</td>\n",
       "<td class=\"zentriert\">-</td>\n",
       "</tr>\n",
       "<tr>\n",
       "<td class=\"rechts hauptlink\" style=\"background-color:#f8a7a3\">16<span class=\"icons_sprite red-arrow-ten\" title=\"previous week 7.place\"> </span></td>\n",
       "<td class=\"zentriert no-border-rechts\"><a class=\"vereinprofil_tooltip\" href=\"/konyaspor/spielplan/verein/2293/saison_id/2005\" id=\"2293\"><img alt=\"Konyaspor\" class=\"tiny_wappen\" src=\"https://tmssl.akamaized.net/images/wappen/tiny/2293.png?lm=1519828204\" title=\" \"/></a></td>\n",
       "<td class=\"no-border-links hauptlink\">\n",
       "<a class=\"vereinprofil_tooltip\" href=\"/konyaspor/spielplan/verein/2293/saison_id/2005\" id=\"2293\">Konyaspor</a><br class=\"show-for-small\"/>\n",
       "</td>\n",
       "<td class=\"zentriert\">1</td>\n",
       "<td class=\"zentriert\">0</td>\n",
       "<td class=\"zentriert\">0</td>\n",
       "<td class=\"zentriert\">1</td>\n",
       "<td class=\"zentriert\">1:2</td>\n",
       "<td class=\"zentriert\">-1</td>\n",
       "<td class=\"zentriert\">-</td>\n",
       "</tr>\n",
       "<tr>\n",
       "<td class=\"rechts hauptlink\" style=\"background-color:#f8a7a3\">17<span class=\"icons_sprite red-arrow-ten\" title=\"previous week 4.place\"> </span></td>\n",
       "<td class=\"zentriert no-border-rechts\"><a class=\"vereinprofil_tooltip\" href=\"/kayserispor/spielplan/verein/3205/saison_id/2005\" id=\"3205\"><img alt=\"Kayserispor\" class=\"tiny_wappen\" src=\"https://tmssl.akamaized.net/images/wappen/tiny/3205.png?lm=1520239955\" title=\" \"/></a></td>\n",
       "<td class=\"no-border-links hauptlink\">\n",
       "<a class=\"vereinprofil_tooltip\" href=\"/kayserispor/spielplan/verein/3205/saison_id/2005\" id=\"3205\">Kayserispor</a><br class=\"show-for-small\"/>\n",
       "</td>\n",
       "<td class=\"zentriert\">1</td>\n",
       "<td class=\"zentriert\">0</td>\n",
       "<td class=\"zentriert\">0</td>\n",
       "<td class=\"zentriert\">1</td>\n",
       "<td class=\"zentriert\">1:2</td>\n",
       "<td class=\"zentriert\">-1</td>\n",
       "<td class=\"zentriert\">-</td>\n",
       "</tr>\n",
       "<tr>\n",
       "<td class=\"rechts hauptlink\" style=\"background-color:#f8a7a3\">18<span class=\"icons_sprite red-arrow-ten\" title=\"previous week 12.place\"> </span></td>\n",
       "<td class=\"zentriert no-border-rechts\"><a class=\"vereinprofil_tooltip\" href=\"/caykur-rizespor/spielplan/verein/126/saison_id/2005\" id=\"126\"><img alt=\"Caykur Rizespor\" class=\"tiny_wappen\" src=\"https://tmssl.akamaized.net/images/wappen/tiny/126.png?lm=1443714784\" title=\" \"/></a></td>\n",
       "<td class=\"no-border-links hauptlink\">\n",
       "<a class=\"vereinprofil_tooltip\" href=\"/caykur-rizespor/spielplan/verein/126/saison_id/2005\" id=\"126\">C. Rizespor</a><br class=\"show-for-small\"/>\n",
       "</td>\n",
       "<td class=\"zentriert\">1</td>\n",
       "<td class=\"zentriert\">0</td>\n",
       "<td class=\"zentriert\">0</td>\n",
       "<td class=\"zentriert\">1</td>\n",
       "<td class=\"zentriert\">0:1</td>\n",
       "<td class=\"zentriert\">-1</td>\n",
       "<td class=\"zentriert\">-</td>\n",
       "</tr>\n",
       "</tbody>\n",
       "</table>"
      ]
     },
     "execution_count": 58,
     "metadata": {},
     "output_type": "execute_result"
    }
   ],
   "source": [
    "all = soup.find_all(\"table\")\n",
    "all[4]"
   ]
  },
  {
   "cell_type": "code",
   "execution_count": 65,
   "id": "94112203",
   "metadata": {},
   "outputs": [],
   "source": [
    "table = all[4].find_all(\"tr\")\n",
    "table = table[1:]\n",
    "# table[0]"
   ]
  },
  {
   "cell_type": "code",
   "execution_count": null,
   "id": "efd7a0d4",
   "metadata": {},
   "outputs": [],
   "source": []
  }
 ],
 "metadata": {
  "kernelspec": {
   "display_name": "Python 3",
   "language": "python",
   "name": "python3"
  },
  "language_info": {
   "codemirror_mode": {
    "name": "ipython",
    "version": 3
   },
   "file_extension": ".py",
   "mimetype": "text/x-python",
   "name": "python",
   "nbconvert_exporter": "python",
   "pygments_lexer": "ipython3",
   "version": "3.9.5"
  }
 },
 "nbformat": 4,
 "nbformat_minor": 5
}
