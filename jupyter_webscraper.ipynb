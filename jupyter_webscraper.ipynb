{
 "cells": [
  {
   "cell_type": "code",
   "execution_count": 19,
   "id": "8608d5cb",
   "metadata": {},
   "outputs": [],
   "source": [
    "import requests\n",
    "from bs4 import BeautifulSoup\n",
    "import pandas"
   ]
  },
  {
   "cell_type": "code",
   "execution_count": 22,
   "id": "b253e2fe",
   "metadata": {},
   "outputs": [],
   "source": [
    "# fixture_list = []\n",
    "# fixture_url = 'https://www.transfermarkt.com/super-lig/spieltagtabelle/wettbewerb/TR1?saison_id='\n",
    "\n",
    "# for season in range(2005, 2006):\n",
    "#     for matchday in range(1, 2):\n",
    "#         season_requests = requests.get(fixture_url + str(season) + '&spieltag=' + str(matchday), \n",
    "#             headers={'User-agent': 'Mozilla/5.0 (X11; Ubuntu; Linux x86_64; rv:61.0) Gecko/20100101 Firefox/61.0'})\n",
    "\n",
    "#         content = season_requests.content\n",
    "#         soup = BeautifulSoup(content, 'html.parser')\n",
    "#         print(soup.prettify())"
   ]
  },
  {
   "cell_type": "code",
   "execution_count": 24,
   "id": "93d3c4fe",
   "metadata": {},
   "outputs": [],
   "source": [
    "tmp_url = \"https://www.transfermarkt.com/super-lig/spieltagtabelle/wettbewerb/TR1?saison_id=2005&spieltag=1\"\n",
    "r = requests.get(tmp_url, headers={'User-agent': 'Mozilla/5.0 (X11; Ubuntu; Linux x86_64; rv:61.0) Gecko/20100101 Firefox/61.0'})\n",
    "c = r.content\n",
    "soup = BeautifulSoup(c, \"html.parser\")\n",
    "# print(soup.prettify())"
   ]
  },
  {
   "cell_type": "code",
   "execution_count": 40,
   "id": "edb5d899",
   "metadata": {},
   "outputs": [],
   "source": [
    "all = soup.find_all(\"div\", {\"class\": \"responsive-table\"})\n",
    "# all"
   ]
  },
  {
   "cell_type": "code",
   "execution_count": 86,
   "id": "6722564d",
   "metadata": {},
   "outputs": [],
   "source": [
    "home_games = all[0].find_all(\"td\", {\"class\": \"text-right no-border-rechts no-border-links hauptlink hide-for-small\"})\n",
    "# home_games"
   ]
  },
  {
   "cell_type": "code",
   "execution_count": 95,
   "id": "a24fafc1",
   "metadata": {},
   "outputs": [
    {
     "data": {
      "text/plain": [
       "['Genclerbirligi Ankara',\n",
       " 'Kayseri Erciyesspor',\n",
       " 'Diyarbakirspor',\n",
       " 'Sivasspor',\n",
       " 'Trabzonspor',\n",
       " 'Denizlispor',\n",
       " 'Galatasaray A.S.',\n",
       " 'Samsunspor',\n",
       " 'Manisaspor']"
      ]
     },
     "execution_count": 95,
     "metadata": {},
     "output_type": "execute_result"
    }
   ],
   "source": [
    "home_team_list = []\n",
    "for index in range(9):\n",
    "    home_game = home_games[index].find_all(\"a\", attrs={'class': \"vereinprofil_tooltip\"})\n",
    "    for tag in home_game:\n",
    "        home_team_list.append(tag.text.strip())\n",
    "home_team_list"
   ]
  },
  {
   "cell_type": "code",
   "execution_count": 98,
   "id": "096d4739",
   "metadata": {},
   "outputs": [
    {
     "data": {
      "text/plain": [
       "['Fenerbahce SK',\n",
       " 'Besiktas JK',\n",
       " 'Caykur Rizespor',\n",
       " 'Malatyaspor',\n",
       " 'Kayserispor',\n",
       " 'Ankaraspor',\n",
       " 'Konyaspor',\n",
       " 'Gaziantepspor',\n",
       " 'MKE Ankaragücü']"
      ]
     },
     "execution_count": 98,
     "metadata": {},
     "output_type": "execute_result"
    }
   ],
   "source": [
    "away_games = all[0].find_all(\"td\", {\"class\": \"no-border-links no-border-rechts hauptlink hide-for-small\"})\n",
    "# away_games\n",
    "\n",
    "away_team_list = []\n",
    "for index in range(9):\n",
    "    away_game = away_games[index].find_all(\"a\", attrs={\"vereinprofil_tooltip\"})\n",
    "    for tag in away_game:\n",
    "        away_team_list.append(tag.text.strip())\n",
    "away_team_list"
   ]
  },
  {
   "cell_type": "code",
   "execution_count": 100,
   "id": "5bb2afd1",
   "metadata": {},
   "outputs": [
    {
     "data": {
      "text/plain": [
       "['Genclerbirligi Ankara vs. Fenerbahce SK',\n",
       " 'Kayseri Erciyesspor vs. Besiktas JK',\n",
       " 'Diyarbakirspor vs. Caykur Rizespor',\n",
       " 'Sivasspor vs. Malatyaspor',\n",
       " 'Trabzonspor vs. Kayserispor',\n",
       " 'Denizlispor vs. Ankaraspor',\n",
       " 'Galatasaray A.S. vs. Konyaspor',\n",
       " 'Samsunspor vs. Gaziantepspor',\n",
       " 'Manisaspor vs. MKE Ankaragücü']"
      ]
     },
     "execution_count": 100,
     "metadata": {},
     "output_type": "execute_result"
    }
   ],
   "source": [
    "fixture_list = []\n",
    "for home, away in zip(home_team_list, away_team_list):\n",
    "    fixture_list.append(home + \" vs. \" + away)\n",
    "    \n",
    "fixture_list"
   ]
  },
  {
   "cell_type": "code",
   "execution_count": null,
   "id": "f97a641f",
   "metadata": {},
   "outputs": [],
   "source": []
  }
 ],
 "metadata": {
  "kernelspec": {
   "display_name": "Python 3",
   "language": "python",
   "name": "python3"
  },
  "language_info": {
   "codemirror_mode": {
    "name": "ipython",
    "version": 3
   },
   "file_extension": ".py",
   "mimetype": "text/x-python",
   "name": "python",
   "nbconvert_exporter": "python",
   "pygments_lexer": "ipython3",
   "version": "3.9.5"
  }
 },
 "nbformat": 4,
 "nbformat_minor": 5
}
