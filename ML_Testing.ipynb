{
 "cells": [
  {
   "cell_type": "code",
   "execution_count": 2,
   "id": "371d39f4",
   "metadata": {},
   "outputs": [],
   "source": [
    "import numpy as np\n",
    "import pandas as pd\n",
    "import os\n",
    "import csv\n",
    "from sklearn.model_selection import train_test_split\n",
    "from sklearn.neighbors import KNeighborsClassifier\n",
    "from sklearn.tree import DecisionTreeClassifier\n",
    "from sklearn.linear_model import LogisticRegression\n",
    "from sklearn.naive_bayes import GaussianNB\n",
    "from sklearn import svm\n",
    "from sklearn.ensemble import GradientBoostingClassifier"
   ]
  },
  {
   "cell_type": "code",
   "execution_count": 8,
   "id": "1a009ad7",
   "metadata": {},
   "outputs": [
    {
     "data": {
      "text/html": [
       "<div>\n",
       "<style scoped>\n",
       "    .dataframe tbody tr th:only-of-type {\n",
       "        vertical-align: middle;\n",
       "    }\n",
       "\n",
       "    .dataframe tbody tr th {\n",
       "        vertical-align: top;\n",
       "    }\n",
       "\n",
       "    .dataframe thead th {\n",
       "        text-align: right;\n",
       "    }\n",
       "</style>\n",
       "<table border=\"1\" class=\"dataframe\">\n",
       "  <thead>\n",
       "    <tr style=\"text-align: right;\">\n",
       "      <th></th>\n",
       "      <th>Unnamed: 0</th>\n",
       "      <th>Unnamed: 0.1</th>\n",
       "      <th>Matchday</th>\n",
       "      <th>Matches</th>\n",
       "      <th>HomePositions</th>\n",
       "      <th>AwayPositions</th>\n",
       "      <th>HomeWins</th>\n",
       "      <th>AwayWins</th>\n",
       "      <th>HomeDraws</th>\n",
       "      <th>AwayDraws</th>\n",
       "      <th>...</th>\n",
       "      <th>AwaySquadSize</th>\n",
       "      <th>HomeAvgAge</th>\n",
       "      <th>AwayAvgAge</th>\n",
       "      <th>HomeNumForeigners</th>\n",
       "      <th>AwayNumForeigners</th>\n",
       "      <th>HomeAvgMarketVal</th>\n",
       "      <th>AwayAvgMarketVal</th>\n",
       "      <th>HomeMarketVal</th>\n",
       "      <th>AwayMarketVal</th>\n",
       "      <th>Result</th>\n",
       "    </tr>\n",
       "  </thead>\n",
       "  <tbody>\n",
       "    <tr>\n",
       "      <th>0</th>\n",
       "      <td>0</td>\n",
       "      <td>0</td>\n",
       "      <td>1</td>\n",
       "      <td>05/06 - Genclerbirligi Ankara vs. Fenerbahce SK</td>\n",
       "      <td>0</td>\n",
       "      <td>0</td>\n",
       "      <td>0</td>\n",
       "      <td>0</td>\n",
       "      <td>0</td>\n",
       "      <td>0</td>\n",
       "      <td>...</td>\n",
       "      <td>25</td>\n",
       "      <td>23.4</td>\n",
       "      <td>24.3</td>\n",
       "      <td>9</td>\n",
       "      <td>5</td>\n",
       "      <td>609</td>\n",
       "      <td>3600</td>\n",
       "      <td>20700</td>\n",
       "      <td>90100</td>\n",
       "      <td>0</td>\n",
       "    </tr>\n",
       "    <tr>\n",
       "      <th>1</th>\n",
       "      <td>1</td>\n",
       "      <td>1</td>\n",
       "      <td>1</td>\n",
       "      <td>05/06 - Kayseri Erciyesspor vs. Besiktas JK</td>\n",
       "      <td>0</td>\n",
       "      <td>0</td>\n",
       "      <td>0</td>\n",
       "      <td>0</td>\n",
       "      <td>0</td>\n",
       "      <td>0</td>\n",
       "      <td>...</td>\n",
       "      <td>39</td>\n",
       "      <td>25.8</td>\n",
       "      <td>24.7</td>\n",
       "      <td>8</td>\n",
       "      <td>9</td>\n",
       "      <td>688</td>\n",
       "      <td>2140</td>\n",
       "      <td>22700</td>\n",
       "      <td>83550</td>\n",
       "      <td>0</td>\n",
       "    </tr>\n",
       "    <tr>\n",
       "      <th>2</th>\n",
       "      <td>2</td>\n",
       "      <td>2</td>\n",
       "      <td>1</td>\n",
       "      <td>05/06 - Diyarbakirspor vs. Caykur Rizespor</td>\n",
       "      <td>0</td>\n",
       "      <td>0</td>\n",
       "      <td>0</td>\n",
       "      <td>0</td>\n",
       "      <td>0</td>\n",
       "      <td>0</td>\n",
       "      <td>...</td>\n",
       "      <td>34</td>\n",
       "      <td>26.6</td>\n",
       "      <td>24.8</td>\n",
       "      <td>8</td>\n",
       "      <td>9</td>\n",
       "      <td>633</td>\n",
       "      <td>464</td>\n",
       "      <td>24050</td>\n",
       "      <td>15770</td>\n",
       "      <td>1</td>\n",
       "    </tr>\n",
       "    <tr>\n",
       "      <th>3</th>\n",
       "      <td>3</td>\n",
       "      <td>3</td>\n",
       "      <td>1</td>\n",
       "      <td>05/06 - Sivasspor vs. Malatyaspor</td>\n",
       "      <td>0</td>\n",
       "      <td>0</td>\n",
       "      <td>0</td>\n",
       "      <td>0</td>\n",
       "      <td>0</td>\n",
       "      <td>0</td>\n",
       "      <td>...</td>\n",
       "      <td>37</td>\n",
       "      <td>25.3</td>\n",
       "      <td>24.3</td>\n",
       "      <td>8</td>\n",
       "      <td>10</td>\n",
       "      <td>481</td>\n",
       "      <td>764</td>\n",
       "      <td>15400</td>\n",
       "      <td>28250</td>\n",
       "      <td>0</td>\n",
       "    </tr>\n",
       "    <tr>\n",
       "      <th>4</th>\n",
       "      <td>4</td>\n",
       "      <td>4</td>\n",
       "      <td>1</td>\n",
       "      <td>05/06 - Trabzonspor vs. Kayserispor</td>\n",
       "      <td>0</td>\n",
       "      <td>0</td>\n",
       "      <td>0</td>\n",
       "      <td>0</td>\n",
       "      <td>0</td>\n",
       "      <td>0</td>\n",
       "      <td>...</td>\n",
       "      <td>34</td>\n",
       "      <td>23.6</td>\n",
       "      <td>22.6</td>\n",
       "      <td>8</td>\n",
       "      <td>6</td>\n",
       "      <td>1690</td>\n",
       "      <td>512</td>\n",
       "      <td>57600</td>\n",
       "      <td>17400</td>\n",
       "      <td>1</td>\n",
       "    </tr>\n",
       "  </tbody>\n",
       "</table>\n",
       "<p>5 rows × 31 columns</p>\n",
       "</div>"
      ],
      "text/plain": [
       "   Unnamed: 0  Unnamed: 0.1  Matchday  \\\n",
       "0           0             0         1   \n",
       "1           1             1         1   \n",
       "2           2             2         1   \n",
       "3           3             3         1   \n",
       "4           4             4         1   \n",
       "\n",
       "                                           Matches  HomePositions  \\\n",
       "0  05/06 - Genclerbirligi Ankara vs. Fenerbahce SK              0   \n",
       "1      05/06 - Kayseri Erciyesspor vs. Besiktas JK              0   \n",
       "2       05/06 - Diyarbakirspor vs. Caykur Rizespor              0   \n",
       "3                05/06 - Sivasspor vs. Malatyaspor              0   \n",
       "4              05/06 - Trabzonspor vs. Kayserispor              0   \n",
       "\n",
       "   AwayPositions  HomeWins  AwayWins  HomeDraws  AwayDraws  ...  \\\n",
       "0              0         0         0          0          0  ...   \n",
       "1              0         0         0          0          0  ...   \n",
       "2              0         0         0          0          0  ...   \n",
       "3              0         0         0          0          0  ...   \n",
       "4              0         0         0          0          0  ...   \n",
       "\n",
       "   AwaySquadSize  HomeAvgAge  AwayAvgAge  HomeNumForeigners  \\\n",
       "0             25        23.4        24.3                  9   \n",
       "1             39        25.8        24.7                  8   \n",
       "2             34        26.6        24.8                  8   \n",
       "3             37        25.3        24.3                  8   \n",
       "4             34        23.6        22.6                  8   \n",
       "\n",
       "   AwayNumForeigners  HomeAvgMarketVal  AwayAvgMarketVal  HomeMarketVal  \\\n",
       "0                  5               609              3600          20700   \n",
       "1                  9               688              2140          22700   \n",
       "2                  9               633               464          24050   \n",
       "3                 10               481               764          15400   \n",
       "4                  6              1690               512          57600   \n",
       "\n",
       "   AwayMarketVal  Result  \n",
       "0          90100       0  \n",
       "1          83550       0  \n",
       "2          15770       1  \n",
       "3          28250       0  \n",
       "4          17400       1  \n",
       "\n",
       "[5 rows x 31 columns]"
      ]
     },
     "execution_count": 8,
     "metadata": {},
     "output_type": "execute_result"
    }
   ],
   "source": [
    "df = pd.read_csv(\"TeamData.csv\")\n",
    "df.head()"
   ]
  },
  {
   "cell_type": "code",
   "execution_count": 11,
   "id": "e4c1a66c",
   "metadata": {},
   "outputs": [],
   "source": [
    "y = df.Result\n",
    "features = ['Matchday', 'HomePositions', 'AwayPositions',  'HomeWins',  'AwayWins',  'HomeDraws',  'AwayDraws',  'HomeLosses',  'AwayLosses',  'HomeGoalsScored',  'AwayGoalsScored',  'HomeGoalsConceded',  'AwayGoalsConceded',  'HomeGoalDiff',  'AwayGoalDiff', \n",
    "                 'HomePoints',  'AwayPoints',  'HomeSquadSize',  'AwaySquadSize',  'HomeAvgAge',  'AwayAvgAge',  'HomeNumForeigners',  'AwayNumForeigners',  'HomeAvgMarketVal',  'AwayAvgMarketVal',  'HomeMarketVal',  'AwayMarketVal']\n",
    "X = df[features]"
   ]
  },
  {
   "cell_type": "code",
   "execution_count": 10,
   "id": "d2912588",
   "metadata": {},
   "outputs": [],
   "source": [
    "x_train, x_test, y_train, y_test = train_test_split(X, y, test_size=0.10, random_state=0)"
   ]
  },
  {
   "cell_type": "code",
   "execution_count": 5,
   "id": "9574445e",
   "metadata": {},
   "outputs": [
    {
     "data": {
      "text/plain": [
       "0.5289421157684631"
      ]
     },
     "execution_count": 5,
     "metadata": {},
     "output_type": "execute_result"
    }
   ],
   "source": [
    "# Logistic Regression\n",
    "logisticRegr = LogisticRegression(max_iter=10000)\n",
    "logisticRegr.fit(x_train, y_train)\n",
    "predictions = logisticRegr.predict(x_test)\n",
    "score = logisticRegr.score(x_test, y_test)\n",
    "score"
   ]
  },
  {
   "cell_type": "code",
   "execution_count": 6,
   "id": "d3dd9d33",
   "metadata": {},
   "outputs": [
    {
     "data": {
      "text/plain": [
       "0.46407185628742514"
      ]
     },
     "execution_count": 6,
     "metadata": {},
     "output_type": "execute_result"
    }
   ],
   "source": [
    "# Naive Bayes\n",
    "clf_nb = GaussianNB().fit(x_train, y_train)\n",
    "clf_nb.score(x_test, y_test)"
   ]
  },
  {
   "cell_type": "code",
   "execution_count": 7,
   "id": "9ca4b936",
   "metadata": {},
   "outputs": [
    {
     "data": {
      "text/plain": [
       "0.5209580838323353"
      ]
     },
     "execution_count": 7,
     "metadata": {},
     "output_type": "execute_result"
    }
   ],
   "source": [
    "# Support Vector Machine\n",
    "clf = svm.SVC()\n",
    "svm = clf.fit(x_train, y_train)\n",
    "svm.score(x_test, y_test)"
   ]
  },
  {
   "cell_type": "code",
   "execution_count": 8,
   "id": "64620d8d",
   "metadata": {},
   "outputs": [
    {
     "data": {
      "text/plain": [
       "0.4041916167664671"
      ]
     },
     "execution_count": 8,
     "metadata": {},
     "output_type": "execute_result"
    }
   ],
   "source": [
    "# Random Forest Model\n",
    "rfm = DecisionTreeClassifier(random_state=1).fit(x_train, y_train)\n",
    "rfm.score(x_test, y_test)"
   ]
  },
  {
   "cell_type": "code",
   "execution_count": 9,
   "id": "5f39c396",
   "metadata": {},
   "outputs": [
    {
     "data": {
      "text/plain": [
       "4380    1\n",
       "2058    1\n",
       "2921    1\n",
       "3239    2\n",
       "1172    2\n",
       "Name: Result, dtype: int64"
      ]
     },
     "execution_count": 9,
     "metadata": {},
     "output_type": "execute_result"
    }
   ],
   "source": [
    "y_test.head()"
   ]
  },
  {
   "cell_type": "code",
   "execution_count": 10,
   "id": "9d2f097e",
   "metadata": {},
   "outputs": [
    {
     "data": {
      "text/plain": [
       "GradientBoostingClassifier(random_state=42)"
      ]
     },
     "execution_count": 10,
     "metadata": {},
     "output_type": "execute_result"
    }
   ],
   "source": [
    "gb_model = GradientBoostingClassifier(random_state=42)\n",
    "gb_model.fit(x_train, y_train)"
   ]
  },
  {
   "cell_type": "code",
   "execution_count": 11,
   "id": "2c660c9f",
   "metadata": {},
   "outputs": [
    {
     "data": {
      "text/plain": [
       "0.5229540918163673"
      ]
     },
     "execution_count": 11,
     "metadata": {},
     "output_type": "execute_result"
    }
   ],
   "source": [
    "predictions = gb_model.predict(x_test)\n",
    "score = gb_model.score(x_test, y_test)\n",
    "score"
   ]
  },
  {
   "cell_type": "code",
   "execution_count": 27,
   "id": "06d009be",
   "metadata": {},
   "outputs": [
    {
     "ename": "ImportError",
     "evalue": "cannot import name 'to_categorical' from 'keras.utils' (c:\\users\\kayra\\appdata\\local\\programs\\python\\python39\\lib\\site-packages\\keras\\utils\\__init__.py)",
     "output_type": "error",
     "traceback": [
      "\u001b[1;31m---------------------------------------------------------------------------\u001b[0m",
      "\u001b[1;31mImportError\u001b[0m                               Traceback (most recent call last)",
      "\u001b[1;32m<ipython-input-27-427939ebaf4d>\u001b[0m in \u001b[0;36m<module>\u001b[1;34m\u001b[0m\n\u001b[0;32m      1\u001b[0m \u001b[1;32mfrom\u001b[0m \u001b[0mkeras\u001b[0m \u001b[1;32mimport\u001b[0m \u001b[0mmodels\u001b[0m\u001b[1;33m\u001b[0m\u001b[1;33m\u001b[0m\u001b[0m\n\u001b[0;32m      2\u001b[0m \u001b[1;32mfrom\u001b[0m \u001b[0mkeras\u001b[0m \u001b[1;32mimport\u001b[0m \u001b[0mlayers\u001b[0m\u001b[1;33m\u001b[0m\u001b[1;33m\u001b[0m\u001b[0m\n\u001b[1;32m----> 3\u001b[1;33m \u001b[1;32mfrom\u001b[0m \u001b[0mkeras\u001b[0m\u001b[1;33m.\u001b[0m\u001b[0mutils\u001b[0m \u001b[1;32mimport\u001b[0m \u001b[0mto_categorical\u001b[0m\u001b[1;33m\u001b[0m\u001b[1;33m\u001b[0m\u001b[0m\n\u001b[0m",
      "\u001b[1;31mImportError\u001b[0m: cannot import name 'to_categorical' from 'keras.utils' (c:\\users\\kayra\\appdata\\local\\programs\\python\\python39\\lib\\site-packages\\keras\\utils\\__init__.py)"
     ]
    }
   ],
   "source": [
    "from keras import models\n",
    "from keras import layers\n",
    "from keras.utils import to_categorical"
   ]
  },
  {
   "cell_type": "code",
   "execution_count": 23,
   "id": "e7e7d9e7",
   "metadata": {},
   "outputs": [],
   "source": [
    "network = models.Sequential()\n",
    "network.add(layers.Dense(512, activation='relu', input_shape=(27,)))\n",
    "network.add(layers.Dense(10, activation='softmax'))\n",
    "network.compile(optimizer='rmsprop', loss='categorical_crossentropy', metrics=['accuracy'])"
   ]
  },
  {
   "cell_type": "code",
   "execution_count": 22,
   "id": "9474cda9",
   "metadata": {},
   "outputs": [],
   "source": [
    "x_train = x_train.reshape((4008 * 27))\n",
    "x_train = x_train.astype('float32') / 255\n",
    "\n",
    "y_train = y_train.reshape((4008 * 27))\n",
    "y_train = y_train.astype('float32') / 255"
   ]
  },
  {
   "cell_type": "code",
   "execution_count": 25,
   "id": "ec3eadba",
   "metadata": {},
   "outputs": [
    {
     "data": {
      "text/plain": [
       "(4008,)"
      ]
     },
     "execution_count": 25,
     "metadata": {},
     "output_type": "execute_result"
    }
   ],
   "source": [
    "y_train.shape"
   ]
  },
  {
   "cell_type": "markdown",
   "id": "824e23bf",
   "metadata": {},
   "source": [
    "## Current Season Testing"
   ]
  },
  {
   "cell_type": "code",
   "execution_count": 7,
   "id": "ed269ae8",
   "metadata": {},
   "outputs": [
    {
     "data": {
      "text/html": [
       "<div>\n",
       "<style scoped>\n",
       "    .dataframe tbody tr th:only-of-type {\n",
       "        vertical-align: middle;\n",
       "    }\n",
       "\n",
       "    .dataframe tbody tr th {\n",
       "        vertical-align: top;\n",
       "    }\n",
       "\n",
       "    .dataframe thead th {\n",
       "        text-align: right;\n",
       "    }\n",
       "</style>\n",
       "<table border=\"1\" class=\"dataframe\">\n",
       "  <thead>\n",
       "    <tr style=\"text-align: right;\">\n",
       "      <th></th>\n",
       "      <th>Unnamed: 0</th>\n",
       "      <th>Matchday</th>\n",
       "      <th>Matches</th>\n",
       "      <th>HomePositions</th>\n",
       "      <th>AwayPositions</th>\n",
       "      <th>HomeWins</th>\n",
       "      <th>AwayWins</th>\n",
       "      <th>HomeDraws</th>\n",
       "      <th>AwayDraws</th>\n",
       "      <th>HomeLosses</th>\n",
       "      <th>...</th>\n",
       "      <th>HomeSquadSize</th>\n",
       "      <th>AwaySquadSize</th>\n",
       "      <th>HomeAvgAge</th>\n",
       "      <th>AwayAvgAge</th>\n",
       "      <th>HomeNumForeigners</th>\n",
       "      <th>AwayNumForeigners</th>\n",
       "      <th>HomeAvgMarketVal</th>\n",
       "      <th>AwayAvgMarketVal</th>\n",
       "      <th>HomeMarketVal</th>\n",
       "      <th>AwayMarketVal</th>\n",
       "    </tr>\n",
       "  </thead>\n",
       "  <tbody>\n",
       "    <tr>\n",
       "      <th>0</th>\n",
       "      <td>0</td>\n",
       "      <td>3</td>\n",
       "      <td>21/22 - Antalyaspor vs. Caykur Rizespor</td>\n",
       "      <td>15</td>\n",
       "      <td>17</td>\n",
       "      <td>0</td>\n",
       "      <td>0</td>\n",
       "      <td>1</td>\n",
       "      <td>1</td>\n",
       "      <td>1</td>\n",
       "      <td>...</td>\n",
       "      <td>30</td>\n",
       "      <td>26</td>\n",
       "      <td>26.5</td>\n",
       "      <td>27.7</td>\n",
       "      <td>13</td>\n",
       "      <td>14</td>\n",
       "      <td>964</td>\n",
       "      <td>854</td>\n",
       "      <td>28930</td>\n",
       "      <td>22200</td>\n",
       "    </tr>\n",
       "    <tr>\n",
       "      <th>1</th>\n",
       "      <td>1</td>\n",
       "      <td>3</td>\n",
       "      <td>21/22 - Adana Demirspor vs. Konyaspor</td>\n",
       "      <td>14</td>\n",
       "      <td>5</td>\n",
       "      <td>0</td>\n",
       "      <td>2</td>\n",
       "      <td>1</td>\n",
       "      <td>0</td>\n",
       "      <td>1</td>\n",
       "      <td>...</td>\n",
       "      <td>25</td>\n",
       "      <td>28</td>\n",
       "      <td>27.7</td>\n",
       "      <td>26.9</td>\n",
       "      <td>14</td>\n",
       "      <td>12</td>\n",
       "      <td>1370</td>\n",
       "      <td>755</td>\n",
       "      <td>34300</td>\n",
       "      <td>21150</td>\n",
       "    </tr>\n",
       "    <tr>\n",
       "      <th>2</th>\n",
       "      <td>2</td>\n",
       "      <td>3</td>\n",
       "      <td>21/22 - Yeni Malatyaspor vs. Gaziantep FK</td>\n",
       "      <td>10</td>\n",
       "      <td>12</td>\n",
       "      <td>1</td>\n",
       "      <td>0</td>\n",
       "      <td>0</td>\n",
       "      <td>1</td>\n",
       "      <td>1</td>\n",
       "      <td>...</td>\n",
       "      <td>31</td>\n",
       "      <td>31</td>\n",
       "      <td>24.8</td>\n",
       "      <td>27.2</td>\n",
       "      <td>13</td>\n",
       "      <td>14</td>\n",
       "      <td>900</td>\n",
       "      <td>994</td>\n",
       "      <td>27900</td>\n",
       "      <td>30830</td>\n",
       "    </tr>\n",
       "    <tr>\n",
       "      <th>3</th>\n",
       "      <td>3</td>\n",
       "      <td>3</td>\n",
       "      <td>21/22 - Istanbul Basaksehir FK vs. Kayserispor</td>\n",
       "      <td>19</td>\n",
       "      <td>16</td>\n",
       "      <td>0</td>\n",
       "      <td>0</td>\n",
       "      <td>0</td>\n",
       "      <td>1</td>\n",
       "      <td>2</td>\n",
       "      <td>...</td>\n",
       "      <td>29</td>\n",
       "      <td>32</td>\n",
       "      <td>27.5</td>\n",
       "      <td>27.5</td>\n",
       "      <td>13</td>\n",
       "      <td>20</td>\n",
       "      <td>1780</td>\n",
       "      <td>923</td>\n",
       "      <td>51500</td>\n",
       "      <td>29550</td>\n",
       "    </tr>\n",
       "    <tr>\n",
       "      <th>4</th>\n",
       "      <td>4</td>\n",
       "      <td>3</td>\n",
       "      <td>21/22 - Besiktas JK vs. Fatih Karagümrük</td>\n",
       "      <td>6</td>\n",
       "      <td>8</td>\n",
       "      <td>1</td>\n",
       "      <td>1</td>\n",
       "      <td>1</td>\n",
       "      <td>1</td>\n",
       "      <td>0</td>\n",
       "      <td>...</td>\n",
       "      <td>33</td>\n",
       "      <td>37</td>\n",
       "      <td>27.5</td>\n",
       "      <td>26.5</td>\n",
       "      <td>18</td>\n",
       "      <td>17</td>\n",
       "      <td>3850</td>\n",
       "      <td>976</td>\n",
       "      <td>127150</td>\n",
       "      <td>36130</td>\n",
       "    </tr>\n",
       "  </tbody>\n",
       "</table>\n",
       "<p>5 rows × 29 columns</p>\n",
       "</div>"
      ],
      "text/plain": [
       "   Unnamed: 0  Matchday                                         Matches  \\\n",
       "0           0         3         21/22 - Antalyaspor vs. Caykur Rizespor   \n",
       "1           1         3           21/22 - Adana Demirspor vs. Konyaspor   \n",
       "2           2         3       21/22 - Yeni Malatyaspor vs. Gaziantep FK   \n",
       "3           3         3  21/22 - Istanbul Basaksehir FK vs. Kayserispor   \n",
       "4           4         3        21/22 - Besiktas JK vs. Fatih Karagümrük   \n",
       "\n",
       "   HomePositions  AwayPositions  HomeWins  AwayWins  HomeDraws  AwayDraws  \\\n",
       "0             15             17         0         0          1          1   \n",
       "1             14              5         0         2          1          0   \n",
       "2             10             12         1         0          0          1   \n",
       "3             19             16         0         0          0          1   \n",
       "4              6              8         1         1          1          1   \n",
       "\n",
       "   HomeLosses  ...  HomeSquadSize  AwaySquadSize  HomeAvgAge  AwayAvgAge  \\\n",
       "0           1  ...             30             26        26.5        27.7   \n",
       "1           1  ...             25             28        27.7        26.9   \n",
       "2           1  ...             31             31        24.8        27.2   \n",
       "3           2  ...             29             32        27.5        27.5   \n",
       "4           0  ...             33             37        27.5        26.5   \n",
       "\n",
       "   HomeNumForeigners  AwayNumForeigners  HomeAvgMarketVal  AwayAvgMarketVal  \\\n",
       "0                 13                 14               964               854   \n",
       "1                 14                 12              1370               755   \n",
       "2                 13                 14               900               994   \n",
       "3                 13                 20              1780               923   \n",
       "4                 18                 17              3850               976   \n",
       "\n",
       "   HomeMarketVal  AwayMarketVal  \n",
       "0          28930          22200  \n",
       "1          34300          21150  \n",
       "2          27900          30830  \n",
       "3          51500          29550  \n",
       "4         127150          36130  \n",
       "\n",
       "[5 rows x 29 columns]"
      ]
     },
     "execution_count": 7,
     "metadata": {},
     "output_type": "execute_result"
    }
   ],
   "source": [
    "test_df = pd.read_csv(\"CurrentSeasonData.csv\")\n",
    "test_df.head()"
   ]
  },
  {
   "cell_type": "code",
   "execution_count": 26,
   "id": "4157afb8",
   "metadata": {},
   "outputs": [],
   "source": [
    "features = ['Matchday', 'HomePositions', 'AwayPositions',  'HomeWins',  'AwayWins',  'HomeDraws',  'AwayDraws',  'HomeLosses',  'AwayLosses',  'HomeGoalsScored',  'AwayGoalsScored',  'HomeGoalsConceded',  'AwayGoalsConceded',  'HomeGoalDiff',  'AwayGoalDiff', \n",
    "                 'HomePoints',  'AwayPoints',  'HomeSquadSize',  'AwaySquadSize',  'HomeAvgAge',  'AwayAvgAge',  'HomeNumForeigners',  'AwayNumForeigners',  'HomeAvgMarketVal',  'AwayAvgMarketVal',  'HomeMarketVal',  'AwayMarketVal']\n",
    "x_test = test_df[features]\n",
    "match_list = test_df['Matches']"
   ]
  },
  {
   "cell_type": "code",
   "execution_count": 21,
   "id": "266d7a82",
   "metadata": {},
   "outputs": [],
   "source": [
    "gb_model = GradientBoostingClassifier(random_state=42)\n",
    "gb_model.fit(X, y)\n",
    "predictions = gb_model.predict(x_test)"
   ]
  },
  {
   "cell_type": "code",
   "execution_count": 31,
   "id": "8a4f16c2",
   "metadata": {},
   "outputs": [
    {
     "name": "stdout",
     "output_type": "stream",
     "text": [
      "21/22 - Antalyaspor vs. Caykur Rizespor - Away Win\n",
      "21/22 - Adana Demirspor vs. Konyaspor - Draw\n",
      "21/22 - Yeni Malatyaspor vs. Gaziantep FK - Home Win\n",
      "21/22 - Istanbul Basaksehir FK vs. Kayserispor - Home Win\n",
      "21/22 - Besiktas JK vs. Fatih Karagümrük - Home Win\n",
      "21/22 - Hatayspor vs. Alanyaspor - Home Win\n",
      "21/22 - Kasimpasa vs. Galatasaray A.S. - Away Win\n",
      "21/22 - Sivasspor vs. Göztepe - Home Win\n",
      "21/22 - Giresunspor vs. Trabzonspor - Away Win\n",
      "21/22 - Altay SK vs. Fenerbahce SK - Home Win\n",
      "21/22 - Fatih Karagümrük vs. Adana Demirspor - Away Win\n",
      "21/22 - Konyaspor vs. Altay SK - Draw\n",
      "21/22 - Besiktas JK vs. Yeni Malatyaspor - Home Win\n",
      "21/22 - Kayserispor vs. Kasimpasa - Home Win\n",
      "21/22 - Fenerbahce SK vs. Sivasspor - Home Win\n",
      "21/22 - Caykur Rizespor vs. Hatayspor - Away Win\n",
      "21/22 - Trabzonspor vs. Galatasaray A.S. - Home Win\n",
      "21/22 - Göztepe vs. Istanbul Basaksehir FK - Away Win\n",
      "21/22 - Gaziantep FK vs. Antalyaspor - Home Win\n",
      "21/22 - Alanyaspor vs. Giresunspor - Home Win\n"
     ]
    }
   ],
   "source": [
    "for match, prediction in zip(match_list, predictions):\n",
    "    if prediction == 0:\n",
    "        prediction = \"Draw\"\n",
    "    if prediction == 1:\n",
    "        prediction = \"Home Win\"\n",
    "    if prediction == 2:\n",
    "        prediction = \"Away Win\"\n",
    "        \n",
    "    print(f\"{match} - {prediction}\")"
   ]
  },
  {
   "cell_type": "code",
   "execution_count": null,
   "id": "0db69a54",
   "metadata": {},
   "outputs": [],
   "source": []
  }
 ],
 "metadata": {
  "kernelspec": {
   "display_name": "Python 3",
   "language": "python",
   "name": "python3"
  },
  "language_info": {
   "codemirror_mode": {
    "name": "ipython",
    "version": 3
   },
   "file_extension": ".py",
   "mimetype": "text/x-python",
   "name": "python",
   "nbconvert_exporter": "python",
   "pygments_lexer": "ipython3",
   "version": "3.9.5"
  }
 },
 "nbformat": 4,
 "nbformat_minor": 5
}
