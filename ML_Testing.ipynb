{
 "cells": [
  {
   "cell_type": "code",
   "execution_count": 10,
   "id": "371d39f4",
   "metadata": {},
   "outputs": [],
   "source": [
    "import numpy as np\n",
    "import pandas as pd\n",
    "import os\n",
    "import csv\n",
    "from sklearn.model_selection import train_test_split\n",
    "from sklearn.neighbors import KNeighborsClassifier\n",
    "from sklearn.tree import DecisionTreeClassifier\n",
    "from sklearn.linear_model import LogisticRegression\n",
    "from sklearn.naive_bayes import GaussianNB\n",
    "from sklearn import svm"
   ]
  },
  {
   "cell_type": "code",
   "execution_count": 2,
   "id": "1a009ad7",
   "metadata": {},
   "outputs": [
    {
     "data": {
      "text/html": [
       "<div>\n",
       "<style scoped>\n",
       "    .dataframe tbody tr th:only-of-type {\n",
       "        vertical-align: middle;\n",
       "    }\n",
       "\n",
       "    .dataframe tbody tr th {\n",
       "        vertical-align: top;\n",
       "    }\n",
       "\n",
       "    .dataframe thead th {\n",
       "        text-align: right;\n",
       "    }\n",
       "</style>\n",
       "<table border=\"1\" class=\"dataframe\">\n",
       "  <thead>\n",
       "    <tr style=\"text-align: right;\">\n",
       "      <th></th>\n",
       "      <th>Unnamed: 0</th>\n",
       "      <th>Unnamed: 0.1</th>\n",
       "      <th>Matchday</th>\n",
       "      <th>Matches</th>\n",
       "      <th>HomePositions</th>\n",
       "      <th>AwayPositions</th>\n",
       "      <th>HomeWins</th>\n",
       "      <th>AwayWins</th>\n",
       "      <th>HomeDraws</th>\n",
       "      <th>AwayDraws</th>\n",
       "      <th>...</th>\n",
       "      <th>AwaySquadSize</th>\n",
       "      <th>HomeAvgAge</th>\n",
       "      <th>AwayAvgAge</th>\n",
       "      <th>HomeNumForeigners</th>\n",
       "      <th>AwayNumForeigners</th>\n",
       "      <th>HomeAvgMarketVal</th>\n",
       "      <th>AwayAvgMarketVal</th>\n",
       "      <th>HomeMarketVal</th>\n",
       "      <th>AwayMarketVal</th>\n",
       "      <th>Result</th>\n",
       "    </tr>\n",
       "  </thead>\n",
       "  <tbody>\n",
       "    <tr>\n",
       "      <th>0</th>\n",
       "      <td>0</td>\n",
       "      <td>0</td>\n",
       "      <td>1</td>\n",
       "      <td>05/06 - Genclerbirligi Ankara vs. Fenerbahce SK</td>\n",
       "      <td>0</td>\n",
       "      <td>0</td>\n",
       "      <td>0</td>\n",
       "      <td>0</td>\n",
       "      <td>0</td>\n",
       "      <td>0</td>\n",
       "      <td>...</td>\n",
       "      <td>25</td>\n",
       "      <td>23.4</td>\n",
       "      <td>24.3</td>\n",
       "      <td>9</td>\n",
       "      <td>5</td>\n",
       "      <td>609</td>\n",
       "      <td>3600</td>\n",
       "      <td>20700</td>\n",
       "      <td>90100</td>\n",
       "      <td>0</td>\n",
       "    </tr>\n",
       "    <tr>\n",
       "      <th>1</th>\n",
       "      <td>1</td>\n",
       "      <td>1</td>\n",
       "      <td>1</td>\n",
       "      <td>05/06 - Kayseri Erciyesspor vs. Besiktas JK</td>\n",
       "      <td>0</td>\n",
       "      <td>0</td>\n",
       "      <td>0</td>\n",
       "      <td>0</td>\n",
       "      <td>0</td>\n",
       "      <td>0</td>\n",
       "      <td>...</td>\n",
       "      <td>39</td>\n",
       "      <td>25.8</td>\n",
       "      <td>24.7</td>\n",
       "      <td>8</td>\n",
       "      <td>9</td>\n",
       "      <td>688</td>\n",
       "      <td>2140</td>\n",
       "      <td>22700</td>\n",
       "      <td>83550</td>\n",
       "      <td>0</td>\n",
       "    </tr>\n",
       "    <tr>\n",
       "      <th>2</th>\n",
       "      <td>2</td>\n",
       "      <td>2</td>\n",
       "      <td>1</td>\n",
       "      <td>05/06 - Diyarbakirspor vs. Caykur Rizespor</td>\n",
       "      <td>0</td>\n",
       "      <td>0</td>\n",
       "      <td>0</td>\n",
       "      <td>0</td>\n",
       "      <td>0</td>\n",
       "      <td>0</td>\n",
       "      <td>...</td>\n",
       "      <td>34</td>\n",
       "      <td>26.6</td>\n",
       "      <td>24.8</td>\n",
       "      <td>8</td>\n",
       "      <td>9</td>\n",
       "      <td>633</td>\n",
       "      <td>464</td>\n",
       "      <td>24050</td>\n",
       "      <td>15770</td>\n",
       "      <td>1</td>\n",
       "    </tr>\n",
       "    <tr>\n",
       "      <th>3</th>\n",
       "      <td>3</td>\n",
       "      <td>3</td>\n",
       "      <td>1</td>\n",
       "      <td>05/06 - Sivasspor vs. Malatyaspor</td>\n",
       "      <td>0</td>\n",
       "      <td>0</td>\n",
       "      <td>0</td>\n",
       "      <td>0</td>\n",
       "      <td>0</td>\n",
       "      <td>0</td>\n",
       "      <td>...</td>\n",
       "      <td>37</td>\n",
       "      <td>25.3</td>\n",
       "      <td>24.3</td>\n",
       "      <td>8</td>\n",
       "      <td>10</td>\n",
       "      <td>481</td>\n",
       "      <td>764</td>\n",
       "      <td>15400</td>\n",
       "      <td>28250</td>\n",
       "      <td>0</td>\n",
       "    </tr>\n",
       "    <tr>\n",
       "      <th>4</th>\n",
       "      <td>4</td>\n",
       "      <td>4</td>\n",
       "      <td>1</td>\n",
       "      <td>05/06 - Trabzonspor vs. Kayserispor</td>\n",
       "      <td>0</td>\n",
       "      <td>0</td>\n",
       "      <td>0</td>\n",
       "      <td>0</td>\n",
       "      <td>0</td>\n",
       "      <td>0</td>\n",
       "      <td>...</td>\n",
       "      <td>34</td>\n",
       "      <td>23.6</td>\n",
       "      <td>22.6</td>\n",
       "      <td>8</td>\n",
       "      <td>6</td>\n",
       "      <td>1690</td>\n",
       "      <td>512</td>\n",
       "      <td>57600</td>\n",
       "      <td>17400</td>\n",
       "      <td>1</td>\n",
       "    </tr>\n",
       "  </tbody>\n",
       "</table>\n",
       "<p>5 rows × 31 columns</p>\n",
       "</div>"
      ],
      "text/plain": [
       "   Unnamed: 0  Unnamed: 0.1  Matchday  \\\n",
       "0           0             0         1   \n",
       "1           1             1         1   \n",
       "2           2             2         1   \n",
       "3           3             3         1   \n",
       "4           4             4         1   \n",
       "\n",
       "                                           Matches  HomePositions  \\\n",
       "0  05/06 - Genclerbirligi Ankara vs. Fenerbahce SK              0   \n",
       "1      05/06 - Kayseri Erciyesspor vs. Besiktas JK              0   \n",
       "2       05/06 - Diyarbakirspor vs. Caykur Rizespor              0   \n",
       "3                05/06 - Sivasspor vs. Malatyaspor              0   \n",
       "4              05/06 - Trabzonspor vs. Kayserispor              0   \n",
       "\n",
       "   AwayPositions  HomeWins  AwayWins  HomeDraws  AwayDraws  ...  \\\n",
       "0              0         0         0          0          0  ...   \n",
       "1              0         0         0          0          0  ...   \n",
       "2              0         0         0          0          0  ...   \n",
       "3              0         0         0          0          0  ...   \n",
       "4              0         0         0          0          0  ...   \n",
       "\n",
       "   AwaySquadSize  HomeAvgAge  AwayAvgAge  HomeNumForeigners  \\\n",
       "0             25        23.4        24.3                  9   \n",
       "1             39        25.8        24.7                  8   \n",
       "2             34        26.6        24.8                  8   \n",
       "3             37        25.3        24.3                  8   \n",
       "4             34        23.6        22.6                  8   \n",
       "\n",
       "   AwayNumForeigners  HomeAvgMarketVal  AwayAvgMarketVal  HomeMarketVal  \\\n",
       "0                  5               609              3600          20700   \n",
       "1                  9               688              2140          22700   \n",
       "2                  9               633               464          24050   \n",
       "3                 10               481               764          15400   \n",
       "4                  6              1690               512          57600   \n",
       "\n",
       "   AwayMarketVal  Result  \n",
       "0          90100       0  \n",
       "1          83550       0  \n",
       "2          15770       1  \n",
       "3          28250       0  \n",
       "4          17400       1  \n",
       "\n",
       "[5 rows x 31 columns]"
      ]
     },
     "execution_count": 2,
     "metadata": {},
     "output_type": "execute_result"
    }
   ],
   "source": [
    "df = pd.read_csv(\"TeamData.csv\")\n",
    "df.head()"
   ]
  },
  {
   "cell_type": "code",
   "execution_count": 3,
   "id": "e4c1a66c",
   "metadata": {},
   "outputs": [],
   "source": [
    "y = df.Result\n",
    "features = ['Matchday', 'HomePositions', 'AwayPositions',  'HomeWins',  'AwayWins',  'HomeDraws',  'AwayDraws',  'HomeLosses',  'AwayLosses',  'HomeGoalsScored',  'AwayGoalsScored',  'HomeGoalsConceded',  'AwayGoalsConceded',  'HomeGoalDiff',  'AwayGoalDiff', \n",
    "                 'HomePoints',  'AwayPoints',  'HomeSquadSize',  'AwaySquadSize',  'HomeAvgAge',  'AwayAvgAge',  'HomeNumForeigners',  'AwayNumForeigners',  'HomeAvgMarketVal',  'AwayAvgMarketVal',  'HomeMarketVal',  'AwayMarketVal']\n",
    "X = df[features]"
   ]
  },
  {
   "cell_type": "code",
   "execution_count": 4,
   "id": "d2912588",
   "metadata": {},
   "outputs": [],
   "source": [
    "x_train, x_test, y_train, y_test = train_test_split(X, y, test_size=0.20, random_state=0)"
   ]
  },
  {
   "cell_type": "code",
   "execution_count": 31,
   "id": "9574445e",
   "metadata": {},
   "outputs": [
    {
     "data": {
      "text/plain": [
       "0.5289421157684631"
      ]
     },
     "execution_count": 31,
     "metadata": {},
     "output_type": "execute_result"
    }
   ],
   "source": [
    "# Logistic Regression\n",
    "logisticRegr = LogisticRegression(max_iter=10000)\n",
    "logisticRegr.fit(x_train, y_train)\n",
    "predictions = logisticRegr.predict(x_test)\n",
    "score = logisticRegr.score(x_test, y_test)\n",
    "score"
   ]
  },
  {
   "cell_type": "code",
   "execution_count": 6,
   "id": "d3dd9d33",
   "metadata": {},
   "outputs": [
    {
     "data": {
      "text/plain": [
       "0.46407185628742514"
      ]
     },
     "execution_count": 6,
     "metadata": {},
     "output_type": "execute_result"
    }
   ],
   "source": [
    "# Naive Bayes\n",
    "clf_nb = GaussianNB().fit(x_train, y_train)\n",
    "clf_nb.score(x_test, y_test)"
   ]
  },
  {
   "cell_type": "code",
   "execution_count": 7,
   "id": "9ca4b936",
   "metadata": {},
   "outputs": [
    {
     "data": {
      "text/plain": [
       "0.5209580838323353"
      ]
     },
     "execution_count": 7,
     "metadata": {},
     "output_type": "execute_result"
    }
   ],
   "source": [
    "# Support Vector Machine\n",
    "clf = svm.SVC()\n",
    "svm = clf.fit(x_train, y_train)\n",
    "svm.score(x_test, y_test)"
   ]
  },
  {
   "cell_type": "code",
   "execution_count": 23,
   "id": "64620d8d",
   "metadata": {},
   "outputs": [
    {
     "data": {
      "text/plain": [
       "0.4041916167664671"
      ]
     },
     "execution_count": 23,
     "metadata": {},
     "output_type": "execute_result"
    }
   ],
   "source": [
    "# Random Forest Model\n",
    "rfm = DecisionTreeClassifier(random_state=1).fit(x_train, y_train)\n",
    "rfm.score(x_test, y_test)"
   ]
  },
  {
   "cell_type": "code",
   "execution_count": 26,
   "id": "5f39c396",
   "metadata": {},
   "outputs": [
    {
     "data": {
      "text/plain": [
       "4380    1\n",
       "2058    1\n",
       "2921    1\n",
       "3239    2\n",
       "1172    2\n",
       "Name: Result, dtype: int64"
      ]
     },
     "execution_count": 26,
     "metadata": {},
     "output_type": "execute_result"
    }
   ],
   "source": [
    "y_test.head()"
   ]
  },
  {
   "cell_type": "code",
   "execution_count": null,
   "id": "9d2f097e",
   "metadata": {},
   "outputs": [],
   "source": []
  },
  {
   "cell_type": "code",
   "execution_count": null,
   "id": "2c660c9f",
   "metadata": {},
   "outputs": [],
   "source": []
  }
 ],
 "metadata": {
  "kernelspec": {
   "display_name": "Python 3",
   "language": "python",
   "name": "python3"
  },
  "language_info": {
   "codemirror_mode": {
    "name": "ipython",
    "version": 3
   },
   "file_extension": ".py",
   "mimetype": "text/x-python",
   "name": "python",
   "nbconvert_exporter": "python",
   "pygments_lexer": "ipython3",
   "version": "3.9.5"
  }
 },
 "nbformat": 4,
 "nbformat_minor": 5
}
